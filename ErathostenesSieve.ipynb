{
 "cells": [
  {
   "cell_type": "code",
   "execution_count": 1,
   "metadata": {
    "collapsed": true,
    "deletable": true,
    "editable": true
   },
   "outputs": [],
   "source": [
    "import math\n",
    "import time\n",
    "import sys"
   ]
  },
  {
   "cell_type": "code",
   "execution_count": 10,
   "metadata": {
    "collapsed": false,
    "deletable": true,
    "editable": true
   },
   "outputs": [
    {
     "name": "stdout",
     "output_type": "stream",
     "text": [
      "9592\n",
      "0.230658054352\n"
     ]
    }
   ],
   "source": [
    "def isPrime(x):\n",
    "    if (x<2): return False\n",
    "    for y in xrange(2,int(math.sqrt(x))+1):\n",
    "        if x%y==0: return False\n",
    "    return True\n",
    "def sieve(x):\n",
    "    rdd = sc.parallelize(range(1,x+1))\n",
    "    rdd1 = rdd.filter(lambda x: isPrime(x))\n",
    "    print rdd1.count()\n",
    "\n",
    "start = time.time()\n",
    "sieve(100000)\n",
    "end = time.time()\n",
    "print (end - start)"
   ]
  },
  {
   "cell_type": "code",
   "execution_count": 28,
   "metadata": {
    "collapsed": false,
    "deletable": true,
    "editable": true
   },
   "outputs": [
    {
     "name": "stdout",
     "output_type": "stream",
     "text": [
      "9592\n",
      "0.582808971405\n"
     ]
    }
   ],
   "source": [
    "#No me hago cargo si se te quema la pc\n",
    "#Jodete por correr codigo sin revisarlo\n",
    "sys.setrecursionlimit(50000)\n",
    "def sieve2(x):\n",
    "    #Hack horrible del infierno\n",
    "    #sc.setCheckpointDir(\"./\")\n",
    "    rdd = sc.parallelize(range(2,x+1),4)\n",
    "    for div in xrange(2,int(math.sqrt(x))+1):\n",
    "        def filter(x, div=div):\n",
    "            return x==div or x%div!=0\n",
    "        rdd = rdd.filter(filter)\n",
    "        #if(div%100==0): rdd.checkpoint()\n",
    "    print rdd.count()\n",
    "\n",
    "start = time.time()\n",
    "sieve2(100000)\n",
    "end = time.time()\n",
    "print (end - start)"
   ]
  },
  {
   "cell_type": "code",
   "execution_count": 37,
   "metadata": {
    "collapsed": false
   },
   "outputs": [
    {
     "name": "stdout",
     "output_type": "stream",
     "text": [
      "25\n",
      "3.50776004791\n"
     ]
    }
   ],
   "source": [
    "'''\n",
    "Esta version es la mas correcta, aunque lenta. Crea la\n",
    "tabla, y luego filtra al numero y sus multiplos.\n",
    "Podria dejarse el numero, pero habria que buscar el\n",
    "i-esimo minimo en cada iteracion.\n",
    "Ejercicio curioso: ver que pasa si se reemplaza la\n",
    "definicion de filterp con una lambda y averiguar por que.\n",
    "'''\n",
    "\n",
    "#sys.setrecursionlimit(50000)\n",
    "def sieve3(x):\n",
    "    rdd = sc.parallelize(range(2,x+1))\n",
    "    primes = []\n",
    "    while(rdd.count() > 0):\n",
    "        #Si, esto hace que tenga un orden horrible\n",
    "        minval = rdd.reduce(lambda x,y: x if x<y else y)\n",
    "        def filterp(x, div=minval):\n",
    "            return x%div!=0\n",
    "        rdd = rdd.filter(filterp)\n",
    "        primes.append(minval)\n",
    "    print len(primes)\n",
    "\n",
    "start = time.time()\n",
    "sieve3(100)\n",
    "end = time.time()\n",
    "print (end - start)"
   ]
  }
 ],
 "metadata": {
  "kernelspec": {
   "display_name": "pySpark",
   "language": "python",
   "name": "pyspark"
  },
  "language_info": {
   "codemirror_mode": {
    "name": "ipython",
    "version": 2
   },
   "file_extension": ".py",
   "mimetype": "text/x-python",
   "name": "python",
   "nbconvert_exporter": "python",
   "pygments_lexer": "ipython2",
   "version": "2.7.12"
  }
 },
 "nbformat": 4,
 "nbformat_minor": 2
}
