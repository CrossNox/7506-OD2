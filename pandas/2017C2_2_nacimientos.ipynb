{
 "cells": [
  {
   "cell_type": "markdown",
   "metadata": {},
   "source": [
    "La Agencia Nacional de Estadísticas de Buenos Aires recolecta información de nacimientos cuando los padres registran a sus hijos en el registro civil a partir de una encuesta. \n",
    "\n",
    "Esa información se encuentra disponible para su análisis en un csv con el siguiente formato (dia_nacimiento, mes_nacimiento, anio_nacimiento, peso_al_nacer, longitud_al_nacer, id_hospital, tipo_parto), donde el tipo de parto 1 es natural y 2 es cesárea. \n",
    "\n",
    "Por otro lado la agencia cuenta con información histórica de los hospitales en otro csv con siguiente formato (id_hospital, dirección, promedio_nacimientos_mensual). \n",
    "\n",
    "Se pide usar Pandas para:  \n",
    "1. Calcular la cantidad de nacimientos para cada uno de los hospitales para el mes de Octubre de 2017 e indicar aquellos hospitales que superan el promedio de nacimientos mensuales. \n",
    "\n",
    "2. Comparando el mes de Octubre de 2017 indicar programáticamente si se incremento el % de cesáreas con respecto a ese mes del año 2016. \n",
    "\n",
    "[Link](https://piazza.com/class_profile/get_resource/jkr2voxi1yw4wt/jkr2vqrpsea4xf)"
   ]
  },
  {
   "cell_type": "code",
   "execution_count": null,
   "metadata": {},
   "outputs": [],
   "source": [
    "# Set-up y vista rápida de los datasets sintéticos\n",
    "import pandas as pd\n",
    "\n",
    "df_nacimientos = pd.read_csv('../data/2017C2_2_nacimientos.csv')\n",
    "display(df_nacimientos)\n",
    "\n",
    "df_historico = pd.read_csv('../data/2017C2_2_historico.csv')\n",
    "display(df_historico)"
   ]
  },
  {
   "cell_type": "markdown",
   "metadata": {},
   "source": [
    "**1. Calcular la cantidad de nacimientos para cada uno de los hospitales para el mes de Octubre de 2017 e indicar aquellos hospitales que superan el promedio de nacimientos mensuales.**\n",
    "\n",
    "- Primero filtramos por mes y año\n",
    "- Agrupamos por hospital y contamos los nacimientos en cada grupo\n",
    "- Unimos con el dataframe con la data historica\n",
    "- Filtramos para quedarnos con aquellos que en oct/2017 hayan superado el histórico promedio"
   ]
  },
  {
   "cell_type": "code",
   "execution_count": null,
   "metadata": {},
   "outputs": [],
   "source": [
    "nacimientos_octubre = df_nacimientos[(df_nacimientos['mes_nacimiento']==10) & (df_nacimientos['anio_nacimiento']==2017)]\n",
    "nacimientos_octubre"
   ]
  },
  {
   "cell_type": "code",
   "execution_count": null,
   "metadata": {},
   "outputs": [],
   "source": [
    "nacimientos_por_hospital = nacimientos_octubre.groupby('id_hospital').size().rename(\"nacimientos_octubre\")\n",
    "nacimientos_por_hospital"
   ]
  },
  {
   "cell_type": "code",
   "execution_count": null,
   "metadata": {},
   "outputs": [],
   "source": [
    "df_merge = df_historico.join(nacimientos_por_hospital,on='id_hospital')\n",
    "df_merge"
   ]
  },
  {
   "cell_type": "code",
   "execution_count": null,
   "metadata": {},
   "outputs": [],
   "source": [
    "df_merge[df_merge['nacimientos_octubre'] > df_merge['promedio_nacimientos_mensual']][[\"id_hospital\",\"dirección\"]]"
   ]
  },
  {
   "cell_type": "markdown",
   "metadata": {},
   "source": [
    "**2. Comparando el mes de Octubre de 2017 indicar programáticamente si se incremento el % de cesáreas con respecto a ese mes del año 2016. **\n",
    "\n",
    "Los pasos a seguir serían:\n",
    "- Filtrar por mes\n",
    "- Agrupar por año\n",
    "- Dentro de cada grupo, calcular el porcentaje de cesareas"
   ]
  },
  {
   "cell_type": "code",
   "execution_count": null,
   "metadata": {},
   "outputs": [],
   "source": [
    "octubre = df_nacimientos[df_nacimientos['mes_nacimiento'] == 10]\n",
    "porc_cesarea = octubre.groupby('anio_nacimiento').tipo_parto.agg(lambda x: (x==2).mean())\n",
    "\n",
    "if porc_cesarea[2017] > porc_cesarea[2016]: \n",
    "    print(\"Se incrementó el % de cesáreas\")\n",
    "else: \n",
    "    print(\"No se incrementó el % de cesáreas\")"
   ]
  }
 ],
 "metadata": {
  "kernelspec": {
   "display_name": "Python 3",
   "language": "python",
   "name": "python3"
  },
  "language_info": {
   "codemirror_mode": {
    "name": "ipython",
    "version": 3
   },
   "file_extension": ".py",
   "mimetype": "text/x-python",
   "name": "python",
   "nbconvert_exporter": "python",
   "pygments_lexer": "ipython3",
   "version": "3.6.6"
  },
  "toc": {
   "base_numbering": 1,
   "nav_menu": {},
   "number_sections": true,
   "sideBar": true,
   "skip_h1_title": false,
   "title_cell": "Table of Contents",
   "title_sidebar": "Contents",
   "toc_cell": false,
   "toc_position": {},
   "toc_section_display": true,
   "toc_window_display": false
  }
 },
 "nbformat": 4,
 "nbformat_minor": 2
}
