{
 "cells": [
  {
   "cell_type": "markdown",
   "metadata": {},
   "source": [
    "# Consigna\n",
    "\n",
    "Link a la consigna: https://piazza.com/class_profile/get_resource/jkr2voxi1yw4wt/jkr2vqrpsea4xf\n",
    "\n",
    "A partir de la plataforma online (e-shop) de los países en los que opera, Nintendo tiene información de ventas de videojuegos diarias digitales por país en el siguiente RDD: (id_videojuego, codigo_pais, fecha, visitas_diarias, total_ventas_diarias). \n",
    "\n",
    "Por otro lado se tienen otro RDD que tiene información de todos los videojuegos que se venden en su plataforma con el siguiente formato (id_videojuego, titulo, rating_pegi, rating_esbr). Tener en cuenta que un mismo videojuego se puede vender en distintos países y esos nos permitirá obtener métricas a nivel global. \n",
    "\n",
    "Con esta información escribir un programa en pySpark que permita: \n",
    "\n",
    "a) Obtener el videojuego con más ventas digitales globales (es decir en todos los países) en un RDD con el siguiente formato: (id_videojuego, titulo, total), siendo total la cantidad total de ventas digitales globales\n",
    "\n",
    "b) Para el videojuego con mas ventas, obtener cual es el país para el cual ser registra una mayor tasa de conversión (es decir, mayor total_ventas_diarias / visitas_diarias)"
   ]
  },
  {
   "cell_type": "code",
   "execution_count": null,
   "metadata": {},
   "outputs": [],
   "source": [
    "from pyspark import SparkContext\n",
    "\n",
    "sc = SparkContext.getOrCreate()"
   ]
  },
  {
   "cell_type": "code",
   "execution_count": null,
   "metadata": {},
   "outputs": [],
   "source": [
    "datos_ventas_diarias = [\n",
    "    (1, 'AR', '2018-01-01', 30, 10),\n",
    "    (1, 'ES', '2018-01-01', 23, 13),\n",
    "    (2, 'US', '2018-01-04', 45, 5),\n",
    "    (2, 'MX', '2018-01-04', 20, 10),\n",
    "    (2, 'US', '2018-01-06', 50, 15),\n",
    "    (3, 'AR', '2018-01-06', 10, 2),\n",
    "    (1, 'US', '2018-01-06', 14, 4),\n",
    "    (3, 'ES', '2018-01-10', 34, 11),\n",
    "    (4, 'ES', '2018-01-11', 42, 24),\n",
    "    (4, 'US', '2018-01-11', 83, 34),\n",
    "    (4, 'AR', '2018-01-11', 27, 20),\n",
    "    (4, 'MX', '2018-01-11', 47, 18),\n",
    "    (4, 'AR', '2018-01-20', 10, 0),\n",
    "    (4, 'US', '2018-01-21', 34, 2),\n",
    "    (4, 'ES', '2018-01-21', 25, 7)\n",
    "]\n",
    "\n",
    "datos_videojuegos = [\n",
    "    (1, 'Zelda: Breath of the Wild', 9, 8),\n",
    "    (2, 'Mario Kart', 9, 7),\n",
    "    (3, 'Splatoon 2', 11, 8),\n",
    "    (4, 'Monster Hunter Generations Ultimate', 13, 10)\n",
    "]"
   ]
  },
  {
   "cell_type": "markdown",
   "metadata": {},
   "source": [
    "# Punto A\n",
    "\n",
    "Sean:\n",
    "\n",
    "* rdd_vd = rdd con los datos de ventas diarias de cada id_videojuego.\n",
    "* rdd_vg = rdd con el título y rating asociado a cada id_videojuego."
   ]
  },
  {
   "cell_type": "code",
   "execution_count": null,
   "metadata": {},
   "outputs": [],
   "source": [
    "rdd_vd = sc.parallelize(datos_ventas_diarias)\n",
    "rdd_vg = sc.parallelize(datos_videojuegos)"
   ]
  },
  {
   "cell_type": "markdown",
   "metadata": {},
   "source": [
    "En este ejercicio necesitamos unir en algún momento ambos RDDs para poder juntar el id del videojuego más vendido a nivel mundial con su título correspondiente.\n",
    "\n",
    "Esta unión se puede realizar al principio del ejercicio o al final, vamos a ver ambas versiones."
   ]
  },
  {
   "cell_type": "markdown",
   "metadata": {},
   "source": [
    "## Version realizando el join al principio."
   ]
  },
  {
   "cell_type": "markdown",
   "metadata": {},
   "source": [
    "### Paso 1\n",
    "\n",
    "Para realizar el join no es necesario aplicar map a rdd_vg porque el join va a tomar el id_videojuego como clave, y titulo como valor, por ser las dos primeras columnas del RDD.\n",
    "\n",
    "En caso de ser necesario, seria `rdd_vg.map(lambda x: (x[0], x[1]))`\n",
    "\n",
    "Lo que sí debemos hacer es quedarnos con el id_videojuego y el total de ventas diaras de rdd_vd.\n",
    "\n",
    "Luego del join nos quedarán registros`(id_videojuego, (total_ventas_diarias, titulo))`."
   ]
  },
  {
   "cell_type": "code",
   "execution_count": null,
   "metadata": {},
   "outputs": [],
   "source": [
    "rdd_unido = rdd_vd.map(lambda x: (x[0], x[4])).join(rdd_vg)\n",
    "rdd_unido.collect()"
   ]
  },
  {
   "cell_type": "markdown",
   "metadata": {},
   "source": [
    "### Paso 2\n",
    "\n",
    "Cambiaremos el formato de las tuplas para poder hacer un reduceByKey y obtener el total de ventas anuales para cada video juego.\n",
    "\n",
    "Nos quedarán con la pinta `((id_videojuego, titulo), total_ventas_diarias)`. De esta forma nuestras tuplas quedan con el formato correcto para poder realizar el reduceByKey.\n",
    "\n",
    "Luego del reduceByKey haremos un map para pasarlas al formato pedido en la consigna."
   ]
  },
  {
   "cell_type": "code",
   "execution_count": null,
   "metadata": {},
   "outputs": [],
   "source": [
    "rdd_unido = rdd_unido.map(lambda x: ((x[0], x[1][1]), x[1][0]))\n",
    "rdd_unido = rdd_unido.reduceByKey(lambda a,b: a+b).map(lambda x: (x[0][0], x[0][1], x[1]))\n",
    "rdd_unido.collect()"
   ]
  },
  {
   "cell_type": "markdown",
   "metadata": {},
   "source": [
    "### Paso 3\n",
    "\n",
    "Para obtener la tupla con la mayor cantidad de ventas, simplemente buscamos el máximo utilizando reduce."
   ]
  },
  {
   "cell_type": "code",
   "execution_count": null,
   "metadata": {},
   "outputs": [],
   "source": [
    "juego_mas_vendido = rdd_unido.reduce(lambda a,b: a if a[2] > b[2] else b)\n",
    "juego_mas_vendido"
   ]
  },
  {
   "cell_type": "markdown",
   "metadata": {},
   "source": [
    "## Versión realizando el join al final.\n",
    "\n",
    "En los criterios de corrección, se menciona que esta versión es la ideal."
   ]
  },
  {
   "cell_type": "code",
   "execution_count": null,
   "metadata": {},
   "outputs": [],
   "source": [
    "rdd_a = rdd_vd.map(lambda x: (x[0], x[4]))\n",
    "rdd_a = rdd_a.reduceByKey(lambda a,b: a+b).reduce(lambda a,b: a if a[1] > b[1] else b)\n",
    "rdd_a = sc.parallelize([rdd_a])\n",
    "rdd_a = rdd_a.join(rdd_vg.map(lambda x: (x[0], x[1]))).map(lambda x: (x[0], x[1][1], x[1][0]))\n",
    "rdd_a.collect()"
   ]
  },
  {
   "cell_type": "markdown",
   "metadata": {},
   "source": [
    "# Punto B"
   ]
  },
  {
   "cell_type": "markdown",
   "metadata": {},
   "source": [
    "### Paso 1\n",
    "\n",
    "Para el rdd_vd quedo como valor tuplas de la pinta `(codigo_pais, total_vistas_diarias, total_ventas_diarias)`.\n",
    "\n",
    "Hago un join con el resultado del punto A para quedarme con los registros del juego más vendido obtenido en el punto anterior.\n",
    "\n",
    "Luego aplicamos un map para quedarnos con tuplas con la pinta `(codigo_pais, (total_vistas_diarias, total_ventas_diarias))`."
   ]
  },
  {
   "cell_type": "code",
   "execution_count": null,
   "metadata": {},
   "outputs": [],
   "source": [
    "rdd_b = rdd_vd.map(lambda x: (x[0], (x[1], x[3], x[4]))).join(rdd_a)\n",
    "rdd_b = rdd_b.map(lambda x: (x[1][0][0], (x[1][0][1], x[1][0][2])))\n",
    "rdd_b.collect()"
   ]
  },
  {
   "cell_type": "markdown",
   "metadata": {},
   "source": [
    "### Paso 2\n",
    "\n",
    "Ahora hacemos un reduceByKey para obtener los totales de ventas y vistas para cada pais.\n",
    "\n",
    "Como valor tendremos tuplas `(total_vistas_diarias, total_ventas_diarias)`, por lo cual debemos sumar elemento a elemento."
   ]
  },
  {
   "cell_type": "code",
   "execution_count": null,
   "metadata": {},
   "outputs": [],
   "source": [
    "rdd_b = rdd_b.reduceByKey(lambda a,b: (a[0]+b[0], a[1]+b[1]))\n",
    "rdd_b.collect()"
   ]
  },
  {
   "cell_type": "markdown",
   "metadata": {},
   "source": [
    "### Paso 3\n",
    "\n",
    "Utilizaremos map para calcular la tasa de conversión por país, quedando tuplas de la pinta `(codigo_pais, tasa)`."
   ]
  },
  {
   "cell_type": "code",
   "execution_count": null,
   "metadata": {},
   "outputs": [],
   "source": [
    "rdd_b = rdd_b.map(lambda x: (x[0], float(x[1][1]) / x[1][0]))\n",
    "rdd_b.collect()"
   ]
  },
  {
   "cell_type": "markdown",
   "metadata": {},
   "source": [
    "### Paso 4\n",
    "\n",
    "Finalmente usamos reduce para obtener la máxima de las tasas de conversión."
   ]
  },
  {
   "cell_type": "code",
   "execution_count": null,
   "metadata": {},
   "outputs": [],
   "source": [
    "resultado_b = rdd_b.reduce(lambda a,b: a if a[1] > b[1] else b)\n",
    "resultado_b"
   ]
  }
 ],
 "metadata": {
  "kernelspec": {
   "display_name": "Python 3",
   "language": "python",
   "name": "python3"
  },
  "language_info": {
   "codemirror_mode": {
    "name": "ipython",
    "version": 3
   },
   "file_extension": ".py",
   "mimetype": "text/x-python",
   "name": "python",
   "nbconvert_exporter": "python",
   "pygments_lexer": "ipython3",
   "version": "3.6.7"
  }
 },
 "nbformat": 4,
 "nbformat_minor": 2
}
