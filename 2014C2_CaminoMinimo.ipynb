{
 "cells": [
  {
   "cell_type": "markdown",
   "metadata": {},
   "source": [
    "Se tiene un grafo dirigido representado mediante una lista\n",
    "de adyacencias. Dado un nodo inicial y un nodo final queremos\n",
    "que programe usando Map-Reduce un algoritmo que indique\n",
    "cuál es el camino mínimo entre ambos nodos. En clase vimos\n",
    "como calcular la longitud, ahora queremos saber cuál es el\n",
    "camino."
   ]
  },
  {
   "cell_type": "code",
   "execution_count": 3,
   "metadata": {},
   "outputs": [],
   "source": [
    "adj = [('a',['b']),('b',['c','d','f']),\\\n",
    "      ('c',['e','h','a']),('d',['g']),\\\n",
    "      ('e',['d','k']),('f',['b','d']),('g',['i']),\\\n",
    "      ('h',[]),('i',['d']),('j',['e']),('k',['j'])]"
   ]
  },
  {
   "attachments": {},
   "cell_type": "markdown",
   "metadata": {},
   "source": [
    "![](extras/grafo.png)\n",
    "Siendo un grafo dirigido sin pesos, podemos usar BFS para encontrar el camino mas cercano."
   ]
  },
  {
   "cell_type": "code",
   "execution_count": 90,
   "metadata": {},
   "outputs": [],
   "source": [
    "def sp(s,e):\n",
    "    rdd = sc.parallelize(adj)\n",
    "    #origen, a donde puedo llegar, costo so far, camino so far\n",
    "    rdd = rdd.map(lambda x: (x[0],x[1],0,[x[0]]))\n",
    "    \n",
    "    def map_node(node):\n",
    "        fafafas = [node]\n",
    "        for i in node[1]:\n",
    "            fafafas.append((i,[],node[2]+1,node[3]+[i,]))\n",
    "        return fafafas\n",
    "\n",
    "    def reduce_node(node1,node2,start=s):\n",
    "        print(node1)\n",
    "        proximos = list(set(node1[0]+node2[0]))\n",
    "        if node1[2][0]==start and node2[2][0]!=start:\n",
    "            return (proximos,node1[1],node1[2])\n",
    "        elif node2[2][0]==start and node1[2][0]!=start:\n",
    "            return (proximos,node2[1],node2[2])\n",
    "        elif node1[1] < node2[1]:\n",
    "            return node1\n",
    "        else:\n",
    "            return node2\n",
    "        \n",
    "    for _ in range(rdd.count()):\n",
    "        rdd = rdd.map(map_node).flatMap(lambda x: x).map(lambda x: (x[0],x[1:])).reduceByKey(reduce_node).map(lambda x: (x[0],)+x[1])\n",
    "    camino = rdd.filter(lambda x: x[0] == e).collect()[0][-1]\n",
    "    return camino if camino[0]==s and camino[-1]==e else \"No hay camino\""
   ]
  },
  {
   "cell_type": "markdown",
   "metadata": {},
   "source": [
    "Habiendo `V` vertices, si hay un camino de s a e, tendra largo <= `V`. Por eso hacemos `V` iteraciones de `map-reduce`. En la instancia de `map` lo que hacemos es devolver una lista con el nodo que recibi, y los nodos a los que llegue desde ahi. Hago `flatMap` para obtener de nuevo una lista de nodos. El primer elemento de cada tupla es a donde llegue. Hago `reduceByKey` para juntar todas las tuplas en cada nodo. Si ninguno de los nodos recibidos empezo su camino en `s`, devuelvo el de menor costo de llegada. Si alguno empezo en `s`, devuelvo ese."
   ]
  },
  {
   "cell_type": "code",
   "execution_count": 92,
   "metadata": {},
   "outputs": [
    {
     "data": {
      "text/plain": [
       "['g', 'i', 'd']"
      ]
     },
     "execution_count": 92,
     "metadata": {},
     "output_type": "execute_result"
    }
   ],
   "source": [
    "sp('g','d')"
   ]
  },
  {
   "cell_type": "markdown",
   "metadata": {},
   "source": [
    "Si tiene pesos, suerte haciendolo :D"
   ]
  }
 ],
 "metadata": {
  "kernelspec": {
   "display_name": "PySpark",
   "language": "python",
   "name": "pyspark"
  },
  "language_info": {
   "codemirror_mode": {
    "name": "ipython",
    "version": 3
   },
   "file_extension": ".py",
   "mimetype": "text/x-python",
   "name": "python",
   "nbconvert_exporter": "python",
   "pygments_lexer": "ipython3",
   "version": "3.6.3"
  }
 },
 "nbformat": 4,
 "nbformat_minor": 2
}
