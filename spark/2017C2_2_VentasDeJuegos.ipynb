{
 "cells": [
  {
   "cell_type": "markdown",
   "metadata": {},
   "source": [
    "# Consigna\n",
    "\n",
    "Link a la consigna: https://piazza.com/class_profile/get_resource/jkr2voxi1yw4wt/jkr2vqrpsea4xf\n",
    "\n",
    "A partir de la plataforma online (e-shop) de los países en los que opera, Nintendo tiene información de ventas de videojuegos diarias digitales por país en el siguiente RDD: (id_videojuego, codigo_pais, fecha, visitas_diarias, total_ventas_diarias). \n",
    "\n",
    "Por otro lado se tienen otro RDD que tiene información de todos los videojuegos que se venden en su plataforma con el siguiente formato (id_videojuego, titulo, rating_pegi, rating_esbr). Tener en cuenta que un mismo videojuego se puede vender en distintos países y esos nos permitirá obtener métricas a nivel global. \n",
    "\n",
    "Con esta información escribir un programa en pySpark que permita: \n",
    "\n",
    "a) Obtener el videojuego con más ventas digitales globales (es decir en todos los países) en un RDD con el siguiente formato: (id_videojuego, titulo, total), siendo total la cantidad total de ventas digitales globales\n",
    "\n",
    "b) Para el videojuego con mas ventas, obtener cual es el país para el cual ser registra una mayor tasa de conversión (es decir, mayor total_ventas_diarias / visitas_diarias)"
   ]
  },
  {
   "cell_type": "code",
   "execution_count": 1,
   "metadata": {},
   "outputs": [],
   "source": [
    "from pyspark import SparkContext\n",
    "\n",
    "sc = SparkContext.getOrCreate()"
   ]
  },
  {
   "cell_type": "code",
   "execution_count": 2,
   "metadata": {},
   "outputs": [],
   "source": [
    "datos_ventas_diarias = [\n",
    "    (1, 'AR', '2018-01-01', 30, 10),\n",
    "    (1, 'ES', '2018-01-01', 23, 13),\n",
    "    (2, 'US', '2018-01-04', 45, 5),\n",
    "    (2, 'MX', '2018-01-04', 20, 10),\n",
    "    (2, 'US', '2018-01-06', 50, 15),\n",
    "    (3, 'AR', '2018-01-06', 10, 2),\n",
    "    (1, 'US', '2018-01-06', 14, 4),\n",
    "    (3, 'ES', '2018-01-10', 34, 11),\n",
    "    (4, 'ES', '2018-01-11', 42, 24),\n",
    "    (4, 'US', '2018-01-11', 83, 34),\n",
    "    (4, 'AR', '2018-01-11', 27, 20),\n",
    "    (4, 'MX', '2018-01-11', 47, 18),\n",
    "    (4, 'AR', '2018-01-20', 10, 0),\n",
    "    (4, 'US', '2018-01-21', 34, 2),\n",
    "    (4, 'ES', '2018-01-21', 25, 7)\n",
    "]\n",
    "\n",
    "datos_videojuegos = [\n",
    "    (1, 'Zelda: Breath of the Wild', 9, 8),\n",
    "    (2, 'Mario Kart', 9, 7),\n",
    "    (3, 'Splatoon 2', 11, 8),\n",
    "    (4, 'Monster Hunter Generations Ultimate', 13, 10)\n",
    "]"
   ]
  },
  {
   "cell_type": "markdown",
   "metadata": {},
   "source": [
    "## Punto A\n",
    "\n",
    "Sean:\n",
    "\n",
    "* rdd_vd = rdd con los datos de ventas diarias de cada id_videojuego.\n",
    "* rdd_vg = rdd con el título y rating asociado a cada id_videojuego."
   ]
  },
  {
   "cell_type": "code",
   "execution_count": 3,
   "metadata": {},
   "outputs": [],
   "source": [
    "rdd_vd = sc.parallelize(datos_ventas_diarias)\n",
    "rdd_vg = sc.parallelize(datos_videojuegos)"
   ]
  },
  {
   "cell_type": "markdown",
   "metadata": {},
   "source": [
    "### Versión realizando el join al principio."
   ]
  },
  {
   "cell_type": "code",
   "execution_count": 4,
   "metadata": {},
   "outputs": [
    {
     "data": {
      "text/plain": [
       "[(4, 'Monster Hunter Generations Ultimate', 105)]"
      ]
     },
     "execution_count": 4,
     "metadata": {},
     "output_type": "execute_result"
    }
   ],
   "source": [
    "#  No aplico map a rdd_vg porque el join va a tomar el id_videojuego como clave, y titulo como valor.\n",
    "#  En caso de ser necesario, seria rdd_vg.map(lambda x: (x[0], x[1]))\n",
    "rdd_unido = rdd_vd.map(lambda x: (x[0], x[4])).join(rdd_vg)\n",
    "\n",
    "#  x[1][1] == titulo\n",
    "#  x[1][0] == total_ventas_diarias\n",
    "#  Registros con pinta ((id_videojuego, titulo), total_ventas_diarias)\n",
    "rdd_unido = rdd_unido.map(lambda x: ((x[0], x[1][1]), x[1][0]))\n",
    "\n",
    "#  Hacemos reduceByKey para obtener el total de ventas por videojuego, y luego reduce nos devuelve el mas vendido.\n",
    "juego_mas_vendido = rdd_unido.reduceByKey(lambda a,b: a+b).reduce(lambda a,b: a if a[1] > b[1] else b)\n",
    "\n",
    "#  Armamos un RDD con la tupla obtenida y aplicamos map para obtener el formato pedido en la consigna.\n",
    "rdd_resultado_a = sc.parallelize([juego_mas_vendido]).map(lambda x: (x[0][0], x[0][1], x[1]))\n",
    "rdd_resultado_a.collect()"
   ]
  },
  {
   "cell_type": "markdown",
   "metadata": {},
   "source": [
    "### Versión realizando el join al final.\n",
    "\n",
    "En los criterios de corrección, se menciona que esta versión es la ideal."
   ]
  },
  {
   "cell_type": "code",
   "execution_count": 5,
   "metadata": {},
   "outputs": [
    {
     "data": {
      "text/plain": [
       "[(4, 'Monster Hunter Generations Ultimate', 105)]"
      ]
     },
     "execution_count": 5,
     "metadata": {},
     "output_type": "execute_result"
    }
   ],
   "source": [
    "rdd_a = rdd_vd.map(lambda x: (x[0], x[4]))\n",
    "rdd_a = rdd_a.reduceByKey(lambda a,b: a+b).reduce(lambda a,b: a if a[1] > b[1] else b)\n",
    "rdd_a = sc.parallelize([rdd_a])\n",
    "rdd_a = rdd_a.join(rdd_vg.map(lambda x: (x[0], x[1]))).map(lambda x: (x[0], x[1][1], x[1][0]))\n",
    "rdd_a.collect()"
   ]
  },
  {
   "cell_type": "markdown",
   "metadata": {},
   "source": [
    "## Punto B"
   ]
  },
  {
   "cell_type": "code",
   "execution_count": 6,
   "metadata": {},
   "outputs": [],
   "source": [
    "#  Me quedo como valor tuplas de la pinta (codigo_pais, total_vistas_diarias, total_ventas_diarias)\n",
    "#  Hago un join con el resultado del punto A para quedarme con los registros del juego mas vendido obtenido en A.\n",
    "rdd_b = rdd_vd.map(lambda x: (x[0], (x[1], x[3], x[4]))).join(rdd_resultado_a)\n",
    "\n",
    "#  Luego aplico map para pasar el codigo de pais como clave.\n",
    "rdd_b = rdd_b.map(lambda x: (x[1][0][0], (x[1][0][1], x[1][0][2])))"
   ]
  },
  {
   "cell_type": "code",
   "execution_count": 7,
   "metadata": {},
   "outputs": [
    {
     "data": {
      "text/plain": [
       "[('ES', (42, 24)),\n",
       " ('US', (83, 34)),\n",
       " ('AR', (27, 20)),\n",
       " ('MX', (47, 18)),\n",
       " ('AR', (10, 0)),\n",
       " ('US', (34, 2)),\n",
       " ('ES', (25, 7))]"
      ]
     },
     "execution_count": 7,
     "metadata": {},
     "output_type": "execute_result"
    }
   ],
   "source": [
    "rdd_b.collect()"
   ]
  },
  {
   "cell_type": "code",
   "execution_count": 8,
   "metadata": {},
   "outputs": [
    {
     "data": {
      "text/plain": [
       "[('US', (117, 36)), ('ES', (67, 31)), ('AR', (37, 20)), ('MX', (47, 18))]"
      ]
     },
     "execution_count": 8,
     "metadata": {},
     "output_type": "execute_result"
    }
   ],
   "source": [
    "#  Ahora reduceByKey para obtener los totales de ventas y vistas para cada pais.\n",
    "rdd_b = rdd_b.reduceByKey(lambda a,b: (a[0]+b[0], a[1]+b[1]))\n",
    "rdd_b.collect()"
   ]
  },
  {
   "cell_type": "code",
   "execution_count": 9,
   "metadata": {},
   "outputs": [
    {
     "data": {
      "text/plain": [
       "[('US', 0.3076923076923077),\n",
       " ('ES', 0.4626865671641791),\n",
       " ('AR', 0.5405405405405406),\n",
       " ('MX', 0.3829787234042553)]"
      ]
     },
     "execution_count": 9,
     "metadata": {},
     "output_type": "execute_result"
    }
   ],
   "source": [
    "#  Luego map para obtener la tasa de conversion.\n",
    "rdd_b = rdd_b.map(lambda x: (x[0], float(x[1][1]) / x[1][0]))\n",
    "rdd_b.collect()"
   ]
  },
  {
   "cell_type": "code",
   "execution_count": 10,
   "metadata": {},
   "outputs": [
    {
     "data": {
      "text/plain": [
       "('AR', 0.5405405405405406)"
      ]
     },
     "execution_count": 10,
     "metadata": {},
     "output_type": "execute_result"
    }
   ],
   "source": [
    "#  Finalmente aplicamos reduce para obtener la maxima de las tasas de conversion.\n",
    "resultado_b = rdd_b.reduce(lambda a,b: a if a[1] > b[1] else b)\n",
    "resultado_b"
   ]
  }
 ],
 "metadata": {
  "kernelspec": {
   "display_name": "PySpark",
   "language": "python",
   "name": "pyspark"
  },
  "language_info": {
   "codemirror_mode": {
    "name": "ipython",
    "version": 3
   },
   "file_extension": ".py",
   "mimetype": "text/x-python",
   "name": "python",
   "nbconvert_exporter": "python",
   "pygments_lexer": "ipython3",
   "version": "3.6.6"
  }
 },
 "nbformat": 4,
 "nbformat_minor": 2
}
