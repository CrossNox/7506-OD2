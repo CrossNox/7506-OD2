{
 "cells": [
  {
   "cell_type": "markdown",
   "metadata": {},
   "source": [
    "Una red social almacena el contenido de los chats entre sus usuarios\n",
    "en un RDD que tiene registros con el siguiente formato: (chat_id,\n",
    "user_id, nickname, text). Queremos saber cuál es el usuario (user_id)\n",
    "que mas preguntas hace en sus chats, contabilizamos una pregunta por\n",
    "cada caracter “?” que aparezca en el campo text. Programar en Spark\n",
    "un programa que identifique al usuario preguntón.  \n",
    "[Link](https://piazza.com/class_profile/get_resource/jkr2voxi1yw4wt/jkr2vqrrr2h4xh)"
   ]
  },
  {
   "cell_type": "markdown",
   "metadata": {},
   "source": [
    "Vamos a usar el guion de \"La isla desierta\" de Roberto Arlt como unico documento para armar el RDD. En la siguiente celda proceso el guion, que se encuentra en la carpeta textos."
   ]
  },
  {
   "cell_type": "code",
   "execution_count": null,
   "metadata": {},
   "outputs": [],
   "source": [
    "lineas = []\n",
    "personajes = set([])\n",
    "with open(\"textos/la_isla_desierta.txt\",\"r\") as f:\n",
    "    for linea in f:\n",
    "        if \".-\" not in linea: continue\n",
    "        lineas.append(linea.split(\".-\"))\n",
    "        personajes.add(lineas[-1][0].strip())\n",
    "ids_personajes = {nombre:num for num,nombre in enumerate(personajes)}\n",
    "guion = [(1,ids_personajes[x[0]],x[0],x[1].strip()) for x in lineas]"
   ]
  },
  {
   "cell_type": "markdown",
   "metadata": {},
   "source": [
    "Tenemos el guion procesado, lo cual nos da registros como los del enunciado:  \n",
    "```(chat_id, user_id, nickname, text)```  \n",
    "Lo primero que hacemos es averiguar cuantas preguntas hay en cada linea del guion y quien la dice. Usamos [string.count](https://docs.python.org/2/library/string.html#string.count) para saber la cantidad de veces que aparece `?` en cada linea.  \n",
    "Luego con reduceByKey agrupamos por nickname y sumamos la cantidad de veces que hizo preguntas.  \n",
    "Con [rdd.max](http://spark.apache.org/docs/2.1.0/api/python/pyspark.html#pyspark.RDD.max) obtenemos el registro con mayor cantidad de preguntas, definiendo una funcion que tome la cantidad de preguntas para ordenar."
   ]
  },
  {
   "cell_type": "code",
   "execution_count": null,
   "metadata": {},
   "outputs": [],
   "source": [
    "from pyspark import SparkContext\n",
    "sc = SparkContext.getOrCreate()\n",
    "\n",
    "rdd = sc.parallelize(guion)\n",
    "rdd = rdd.map(lambda x: (x[2], x[3].count(\"?\")))\n",
    "rdd = rdd.reduceByKey(lambda x, y: x+y)\n",
    "user = rdd.max(key=lambda x: x[1])[0]"
   ]
  },
  {
   "cell_type": "code",
   "execution_count": null,
   "metadata": {},
   "outputs": [],
   "source": [
    "\"El usuario que mas preguntas hizo fue {}\".format(user)"
   ]
  }
 ],
 "metadata": {
  "kernelspec": {
   "display_name": "Python 3",
   "language": "python",
   "name": "python3"
  },
  "language_info": {
   "codemirror_mode": {
    "name": "ipython",
    "version": 3
   },
   "file_extension": ".py",
   "mimetype": "text/x-python",
   "name": "python",
   "nbconvert_exporter": "python",
   "pygments_lexer": "ipython3",
   "version": "3.7.3"
  },
  "toc": {
   "base_numbering": 1,
   "nav_menu": {},
   "number_sections": true,
   "sideBar": true,
   "skip_h1_title": false,
   "title_cell": "Table of Contents",
   "title_sidebar": "Contents",
   "toc_cell": false,
   "toc_position": {},
   "toc_section_display": true,
   "toc_window_display": false
  }
 },
 "nbformat": 4,
 "nbformat_minor": 2
}
