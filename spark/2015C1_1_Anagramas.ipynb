{
 "cells": [
  {
   "cell_type": "markdown",
   "metadata": {},
   "source": [
    "Dada una colección de documentos queremos encontrar\n",
    "frases de 1 , 2 o 3 palabras que sean anagramas de otras. Por\n",
    "ejemplo: (“Postmaster”, “Stamp store”) o (“A telescope” , “To\n",
    "see Place”) o (“The cockroach”, “cook catch her”). Esta tarea\n",
    "implica una combinatoria muy difícil por lo que se decide usar\n",
    "Map-Reduce para paralelizarla. Usando Map-Reduce programar\n",
    "la solución a este problema listando todos los pares de\n",
    "anagramas entre frases de 1, 2 o 3 palabras. Como puede\n",
    "verse en los ejemplos se ignoran mayúsculas y minúsculas y\n",
    "los espacios en blanco, puntuación, etc. Suponer que existe la\n",
    "función word_tokenizer que recibe un texto y devuelve un\n",
    "vector de palabras ya convertidas a minúsculas y sin\n",
    "puntuación.\n",
    "\n",
    "[Link](https://piazza.com/class_profile/get_resource/jkr2voxi1yw4wt/jkr2vqswk6n4yp)"
   ]
  },
  {
   "cell_type": "markdown",
   "metadata": {},
   "source": [
    "Usando el paquete de wikipedia obtendremos el texto de un articulo para tener de prueba"
   ]
  },
  {
   "cell_type": "code",
   "execution_count": null,
   "metadata": {},
   "outputs": [],
   "source": [
    "import wikipedia as wp\n",
    "wp.set_lang('en')\n",
    "import string"
   ]
  },
  {
   "cell_type": "code",
   "execution_count": null,
   "metadata": {},
   "outputs": [],
   "source": [
    "letters = set(list(string.ascii_lowercase) + list(string.ascii_uppercase)\\\n",
    "    +list(string.digits) + [' ','.','-','\\n'])\n",
    "sampleText = ''.join(x for x in wp.page(\"Alan turing\").content if x in letters).replace('\\n','.').split('.')\n",
    "rdd = sc.parallelize(sampleText)"
   ]
  },
  {
   "cell_type": "markdown",
   "metadata": {},
   "source": [
    "En nuestro caso usaremos cada oracion del articulo como un documento. Para encontrar los anagramas pondremos todos los documentos en lowercase de modo que por ejemplo \"Alter the\" y \"the later\" sean anagramas. Tambien eliminaremos las frases que han quedado vacias."
   ]
  },
  {
   "cell_type": "code",
   "execution_count": null,
   "metadata": {},
   "outputs": [],
   "source": [
    "rdd = rdd.map(lambda y: y.lower()).filter(lambda x: len(x)>0)"
   ]
  },
  {
   "cell_type": "markdown",
   "metadata": {},
   "source": [
    "Vamos a definir una funcion que nos obtiene los n-gramas de n palabras de cada elemento de un rdd"
   ]
  },
  {
   "cell_type": "code",
   "execution_count": null,
   "metadata": {},
   "outputs": [],
   "source": [
    "def ngrams(element,n):\n",
    "    lis = []\n",
    "    splitted = element.split()\n",
    "    for ind in range(0,len(splitted)-n):\n",
    "        lis.append(' '.join(splitted[ind:ind+n]))\n",
    "    return lis"
   ]
  },
  {
   "cell_type": "markdown",
   "metadata": {},
   "source": [
    "Obtenemos los n-gramas para n 1,2,3 y unimos todo. Luego de esto, tenemos una lista de listas de n-gramas, aplicamos flatmap para obtener una sola lista con los elementos de cada una de las tres listas."
   ]
  },
  {
   "cell_type": "code",
   "execution_count": null,
   "metadata": {},
   "outputs": [],
   "source": [
    "rdd1 = rdd.map(lambda x: ngrams(x,1))\n",
    "rdd2 = rdd.map(lambda x: ngrams(x,2))\n",
    "rdd3 = rdd.map(lambda x: ngrams(x,3))\n",
    "rddf = rdd1.union(rdd2.union(rdd3)).flatMap(lambda x: x)"
   ]
  },
  {
   "cell_type": "markdown",
   "metadata": {},
   "source": [
    "El enunciado nos pide encontrar los pares de anagramas en este rdd. Eso implica que tendran las mismas letras, los espacios no importan. Entonces uniremos los n elementos de cada uno de los n-gramas, eliminando los espacios y ordenando el string (podrian armarse sets de este mismo modo). Con esto armamos una tupla de (elemento ordenado,elemento). Agrupando segun la clave (el primer elemento de la tupla == el elemento ordenado) tenemos una lista de todos los anagramas por clave. Claramente debemos filtrar aquellos que hayan aparecido solo una vez."
   ]
  },
  {
   "cell_type": "code",
   "execution_count": null,
   "metadata": {},
   "outputs": [],
   "source": [
    "rddf = rddf.map(lambda x: (''.join(sorted(x.replace(' ',''))),x))\n",
    "rddf = rddf.groupByKey().map(lambda x: list(set(x[1]))).filter(lambda x: len(x)>1)\n",
    "rddf.take(20)"
   ]
  },
  {
   "cell_type": "markdown",
   "metadata": {},
   "source": [
    "En el output de la celda anterior podemos ver lo siguiente: casi todos los \"anagramas\" de multiples palabras son en realidad las mismas palabras ordenadas de distinto modo. Procedemos a arreglar esto:"
   ]
  },
  {
   "cell_type": "code",
   "execution_count": null,
   "metadata": {},
   "outputs": [],
   "source": [
    "def uniqueWords(ngrams):\n",
    "    r = []\n",
    "    l = []\n",
    "    for i in ngrams:\n",
    "        iset = set(i.split())\n",
    "        if set.difference(*(r+[iset])) != set([]):\n",
    "            r.append(iset)\n",
    "            l.append(i)\n",
    "    return l\n",
    "    \n",
    "rddf = rddf.map(lambda x: uniqueWords(x)).filter(lambda x: len(x)>1)\n",
    "rddf.collect()"
   ]
  }
 ],
 "metadata": {
  "kernelspec": {
   "display_name": "Python 3",
   "language": "python",
   "name": "python3"
  },
  "language_info": {
   "codemirror_mode": {
    "name": "ipython",
    "version": 3
   },
   "file_extension": ".py",
   "mimetype": "text/x-python",
   "name": "python",
   "nbconvert_exporter": "python",
   "pygments_lexer": "ipython2",
   "version": "2.7.15"
  },
  "toc": {
   "base_numbering": 1,
   "nav_menu": {},
   "number_sections": true,
   "sideBar": true,
   "skip_h1_title": false,
   "title_cell": "Table of Contents",
   "title_sidebar": "Contents",
   "toc_cell": false,
   "toc_position": {},
   "toc_section_display": true,
   "toc_window_display": false
  }
 },
 "nbformat": 4,
 "nbformat_minor": 2
}
