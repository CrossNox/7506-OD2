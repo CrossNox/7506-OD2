{
 "cells": [
  {
   "cell_type": "markdown",
   "metadata": {},
   "source": [
    "Se  tiene  información  estadística  de  la  temporada  regular  de  todos  los jugadores   de   la   NBA   en   un   RDD   de   tuplas   con   el   siguiente   formato:  \n",
    "`(id_jugador, nombre, promedio_puntos, promedio_asistencias, promedio_robos, promedio_bloqueos,  promedio_rebotes,  promedio_faltas). \n",
    "`\n",
    "\n",
    "Un  analista  de  la cadena ESPN  está  trabajando  con  un  RDD que corresponde  a  la primera  ronda  de playoffs y que tiene el siguiente formato:  \n",
    "`\n",
    "(id_jugador, id_partido, timestamp, cantidad_puntos, cantidad_rebotes, cantidad_bloqueos, cantidad_robos, cantidad_asistencias,   cantidad_faltas).\n",
    "`\n",
    "\n",
    "En   base   a estos   RDDs   se   quiere  programar  en  PySpark  un  programa  que  genere  un  RDD  con  los  nombres  (sin duplicados)  de  los  jugadores  que  lograron  en  algún  partido  de  playoffs  una  cantidad de asistencias mayor a su promedio histórico (el de la temporada regular).  \n",
    "[Link](https://piazza.com/class_profile/get_resource/jkr2voxi1yw4wt/jkr2vqsptt94yl)"
   ]
  },
  {
   "cell_type": "markdown",
   "metadata": {},
   "source": [
    "### Llamaremos:\n",
    "\n",
    "rdd_po: RDD con los datos de los playoffs. <br />\n",
    "rdd_tr: RDD con los datos de temporada regular."
   ]
  },
  {
   "cell_type": "markdown",
   "metadata": {},
   "source": [
    "### Codigo:"
   ]
  },
  {
   "cell_type": "code",
   "execution_count": 2,
   "metadata": {
    "collapsed": true
   },
   "outputs": [],
   "source": [
    "# Por si hay mas de un contexto de PySpark corriendo (por ejemplo, otro Notebook), esto para utilizar el mismo.\n",
    "sc = SparkContext.getOrCreate()"
   ]
  },
  {
   "cell_type": "code",
   "execution_count": 3,
   "metadata": {},
   "outputs": [],
   "source": [
    "datos_jugadores_regtemp = [\n",
    "    (1, 'Manu Ginobili', 30, 35, 8, 8, 5, 2.2),\n",
    "    (2, 'Kobe Bryant', 40, 30, 3, 5, 20, 2.1),\n",
    "    (3, 'LeBron James', 58, 20, 3, 8, 30, 2.9),\n",
    "    (4, 'Andre Iguodala', 35, 15, 5, 10, 20, 4),\n",
    "    (5, 'Carmelo Anthony', 40, 10, 6, 6, 22, 1.1)\n",
    "]\n",
    "\n",
    "datos_jugadores_po = [\n",
    "    (1, 1, 1, 8, 3, 4, 2, 12, 1),\n",
    "    (1, 1, 3, 4, 1, 5, 2, 15, 1),\n",
    "    (1, 1, 4, 12, 2, 3, 2, 10, 1),\n",
    "    (2, 1, 1, 18, 3, 3, 3, 8, 2),\n",
    "    (2, 1, 4, 9, 3, 4, 1, 5, 1),\n",
    "    (3, 2, 1, 12, 6, 4, 1, 3, 1),\n",
    "    (3, 2, 2, 15, 8, 5, 3, 7, 1),\n",
    "    (3, 2, 3, 22, 6, 2, 1, 4, 2),\n",
    "    (3, 2, 4, 18, 10, 4, 2, 4, 1),\n",
    "    (4, 2, 1, 12, 2, 1, 1, 9, 0),\n",
    "    (4, 2, 2, 25, 8, 4, 2, 4, 3),\n",
    "    (4, 2, 4, 15, 4, 2, 2, 8, 1),\n",
    "    (1, 3, 3, 2, 1, 0, 0, 3, 2),\n",
    "    (5, 3, 1, 8, 1, 2, 0, 6, 0),\n",
    "    (5, 3, 1, 7, 0, 0, 1, 6, 1),\n",
    "]\n",
    "\n",
    "\n",
    "# Los paso a RDDs\n",
    "rdd_tr = sc.parallelize(datos_jugadores_regtemp)\n",
    "rdd_po = sc.parallelize(datos_jugadores_po)"
   ]
  },
  {
   "cell_type": "markdown",
   "metadata": {},
   "source": [
    "### Paso 1\n",
    "\n",
    "Como primer paso, descarto toda la informacion que no me interesa.\n",
    "\n",
    "Dejo al RDD de playoffs solo con tuplas de formato: <span style=\"color:darkred\"><em> ((id_jugador, id_partido), cantidad_asistencias) </em></span> <br/>\n",
    "Dejo al RDD de temporadas regulares solo con tuplas de formato: <span style=\"color:darkred\"><em> (id_jugador, [nombre, promedio_asistencias]) </em></span>"
   ]
  },
  {
   "cell_type": "code",
   "execution_count": 4,
   "metadata": {},
   "outputs": [],
   "source": [
    "rdd_po = rdd_po.map(lambda x: ( (x[0],x[1]), x[7] ))\n",
    "rdd_tr = rdd_tr.map(lambda x: ( x[0], [x[1], x[3]] ))"
   ]
  },
  {
   "cell_type": "markdown",
   "metadata": {},
   "source": [
    "### Paso 2\n",
    "\n",
    "En este paso, se toma el RDD de playoffs.<br/>\n",
    "Primero, se agrupan y suman todos los asistencias que corresponden a un mismo jugador en un mismo partido \n",
    "(ya que un jugador pudo haber salido y vuelto a entrar, por ejemplo).\n",
    "\n",
    "Inmediatamente despues, convertimos todos esos registros en tuplas de formato: <br/>\n",
    "<span style=\"color:darkred\"><em> (id_jugador, cantidad_asistencias_total_en_partido) </em></span> <br/>"
   ]
  },
  {
   "cell_type": "code",
   "execution_count": 5,
   "metadata": {
    "scrolled": false
   },
   "outputs": [
    {
     "data": {
      "text/plain": [
       "[(4, 21), (1, 37), (1, 3), (5, 12), (3, 18), (2, 13)]"
      ]
     },
     "execution_count": 5,
     "metadata": {},
     "output_type": "execute_result"
    }
   ],
   "source": [
    "rdd_po = rdd_po.reduceByKey(lambda x,y: x+y).map(lambda x: (x[0][0], x[1]))\n",
    "\n",
    "#Hacemos collect y podemos ver como quedo la suma de asistencias de cada jugador en cada partido de playoffs.\n",
    "rdd_po.collect()"
   ]
  },
  {
   "cell_type": "markdown",
   "metadata": {},
   "source": [
    "### Paso 3\n",
    "\n",
    "Ahora, nos quedamos con el maximo de asistencias de cada jugador en un partido de playoffs (si el maximo no supera el promedio, entonces ese jugador no cumple).\n",
    "\n",
    "Luego, se toma eso y se convierte en tuplas de formato: <br/>\n",
    "<span style=\"color:darkred\"><em> (id_jugador, [cantidad_asistencias_maximo]) </em></span> <br/>"
   ]
  },
  {
   "cell_type": "code",
   "execution_count": 6,
   "metadata": {},
   "outputs": [
    {
     "data": {
      "text/plain": [
       "[(4, [21]), (1, [37]), (5, [12]), (2, [13]), (3, [18])]"
      ]
     },
     "execution_count": 6,
     "metadata": {},
     "output_type": "execute_result"
    }
   ],
   "source": [
    "rdd_po = rdd_po.reduceByKey(lambda x,y: max(x,y)).map(lambda x: (x[0], [x[1]]))\n",
    "\n",
    "# Hacemos collect y vemos efectivamente que solo quedo la mayor cantidad de asistencias de cada jugador, con ese formato.\n",
    "rdd_po.collect()"
   ]
  },
  {
   "cell_type": "markdown",
   "metadata": {},
   "source": [
    "### Paso 4\n",
    "\n",
    "Joineamos por id_jugador ambos RDD, por lo que nos quedarian tuplas de formato:<br/>\n",
    "<span style=\"color:darkred\"><em> (id_jugador, ([cantidad_asistencias_maximo], [nombre, promedio_asistencias])) </em></span> <br/>\n",
    "\n",
    "Luego, pasa a convertir el segundo elemento de cada registro en una unica lista concatenada de forma: <br/>\n",
    "<span style=\"color:darkorange\"><em> [cantidad_asistencias_maximo, nombre, promedio_asistencias] </em></span> <br/>"
   ]
  },
  {
   "cell_type": "code",
   "execution_count": 7,
   "metadata": {},
   "outputs": [
    {
     "data": {
      "text/plain": [
       "[(1, [37, 'Manu Ginobili', 35]),\n",
       " (2, [13, 'Kobe Bryant', 30]),\n",
       " (3, [18, 'LeBron James', 20]),\n",
       " (4, [21, 'Andre Iguodala', 15]),\n",
       " (5, [12, 'Carmelo Anthony', 10])]"
      ]
     },
     "execution_count": 7,
     "metadata": {},
     "output_type": "execute_result"
    }
   ],
   "source": [
    "rdd_combinado = rdd_po.join(rdd_tr).map(lambda x: (x[0], x[1][0] + x[1][1]))\n",
    "\n",
    "# Luego de esos, con el resultado de collect podemos corroborar que quede de dicha forma.\n",
    "rdd_combinado.collect()"
   ]
  },
  {
   "cell_type": "markdown",
   "metadata": {},
   "source": [
    "### Paso 5\n",
    "\n",
    "A lo ultimo, filtramos y nos quedamos solo con aquellos que su cantidad_asistencias_maximo es mayor a su promedio_asistencias.<br/>\n",
    "Paso siguiente, de aquellos jugadores que cumplieron con lo buscado, nos quedamos solo con su nombre.\n",
    "\n",
    "Devolvemos la lista de nombres de jugadores que superaron su promedio de asistencias en algun partido de playoffs."
   ]
  },
  {
   "cell_type": "code",
   "execution_count": 8,
   "metadata": {},
   "outputs": [
    {
     "data": {
      "text/plain": [
       "['Manu Ginobili', 'Andre Iguodala', 'Carmelo Anthony']"
      ]
     },
     "execution_count": 8,
     "metadata": {},
     "output_type": "execute_result"
    }
   ],
   "source": [
    "rdd_combinado = rdd_combinado.filter(lambda x: x[1][0] > x[1][2]).map(lambda x: x[1][1])\n",
    "rdd_combinado.collect()"
   ]
  }
 ],
 "metadata": {
  "kernelspec": {
   "display_name": "Python 3",
   "language": "python",
   "name": "python3"
  },
  "language_info": {
   "codemirror_mode": {
    "name": "ipython",
    "version": 3
   },
   "file_extension": ".py",
   "mimetype": "text/x-python",
   "name": "python",
   "nbconvert_exporter": "python",
   "pygments_lexer": "ipython2",
   "version": "2.7.15"
  },
  "toc": {
   "base_numbering": 1,
   "nav_menu": {},
   "number_sections": true,
   "sideBar": true,
   "skip_h1_title": false,
   "title_cell": "Table of Contents",
   "title_sidebar": "Contents",
   "toc_cell": false,
   "toc_position": {},
   "toc_section_display": true,
   "toc_window_display": false
  }
 },
 "nbformat": 4,
 "nbformat_minor": 2
}
