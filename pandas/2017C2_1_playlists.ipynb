{
 "cells": [
  {
   "cell_type": "markdown",
   "metadata": {},
   "source": [
    "Tenemos un dataframe con la información de distintas playlists armadas por usuarios con el formato (playlist, song_id, description). \n",
    "\n",
    "A su vez, contamos con un dataframe de canciones que contiene (song_id, singer, year, lenght, genres). Se pide generar un programa en Pandas que indique para cada playlist cual es el cantante predominante (con mas canciones incluidas dentro de esa lista)\n",
    "\n",
    "[Link](https://piazza.com/class_profile/get_resource/jkr2voxi1yw4wt/jkr2vqsotjd4yk)"
   ]
  },
  {
   "cell_type": "code",
   "execution_count": null,
   "metadata": {},
   "outputs": [],
   "source": [
    "# Set-up y vista rápida de las dos bases de datos truchas\n",
    "import pandas as pd\n",
    "\n",
    "df_playlist = pd.read_csv('../data/2017C2_1_playlists.csv')\n",
    "display(df_playlist)\n",
    "\n",
    "df_canciones = pd.read_csv('../data/2017C2_1_canciones.csv')\n",
    "display(df_canciones)"
   ]
  },
  {
   "cell_type": "markdown",
   "metadata": {},
   "source": [
    "Tenemos que encontrar que cantante tiene más canciones de cada playlist. \n",
    "\n",
    "* Unimos los dataframes por ´song_id´\n",
    "\n",
    "* Agrupamos por playlist\n",
    "\n",
    "* Devolvemos el cantante mas común en cada grupo"
   ]
  },
  {
   "cell_type": "code",
   "execution_count": null,
   "metadata": {},
   "outputs": [],
   "source": [
    "df_playlist.merge(df_canciones, how='left').groupby('playlist')['singer'].agg(lambda x:x.mode())"
   ]
  }
 ],
 "metadata": {
  "kernelspec": {
   "display_name": "Python 3",
   "language": "python",
   "name": "python3"
  },
  "language_info": {
   "codemirror_mode": {
    "name": "ipython",
    "version": 3
   },
   "file_extension": ".py",
   "mimetype": "text/x-python",
   "name": "python",
   "nbconvert_exporter": "python",
   "pygments_lexer": "ipython3",
   "version": "3.7.3"
  },
  "toc": {
   "base_numbering": 1,
   "nav_menu": {},
   "number_sections": false,
   "sideBar": true,
   "skip_h1_title": false,
   "title_cell": "Table of Contents",
   "title_sidebar": "Contents",
   "toc_cell": false,
   "toc_position": {},
   "toc_section_display": true,
   "toc_window_display": false
  }
 },
 "nbformat": 4,
 "nbformat_minor": 2
}
