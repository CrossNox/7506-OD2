{
 "cells": [
  {
   "cell_type": "markdown",
   "metadata": {},
   "source": [
    "**EL ENUNCIADO DE ESTE EJERCICIO PIDE RESOLVERLO CON PANDAS**\n",
    "\n",
    "**SE AGREGA LA RESOLUCIÓN DE SPARKSQL DE TODAS FORMAS**\n",
    "\n",
    "> https://piazza.com/class_profile/get_resource/jkr2voxi1yw4wt/jkr2vqu7n114zx\n",
    "\n",
    "El GCPD (Gotham City Police Dept) recolecta la información de casos policiales que acontecen en Ciudad Gótica. Esta información se encuentra guardada en un dataframe con el siguiente formato: (fecha, id_caso, descripcion, estado_caso, categoria, latitud, longitud).  \n",
    "\n",
    "Los  posibles estados  que puede tener  un caso son 1: caso abierto, 2: caso  resuelto, 3: cerrado sin resolución.  \n",
    "\n",
    "Las fechas se encuentran en el formato YYYY-MM-DD. Por otro lado el comisionado Gordon guarda un registro detallado sobre en cuáles casos fue activada la batiseñal para \n",
    "pedir ayuda del vigilante, Batman. Esta información se encuentra en un Dataframe con el siguiente formato (id_caso, respuesta), siendo campo respuesta si la señal tuvo una respu\n",
    "esta positiva (1) o negativa (0) de parte de él.\n",
    "\n",
    "El  sector  encargado  de  las  estadísticas  oficiales  del  GCPD  quiere  con  esta  información  analizar  las  siguientes situaciones: \n",
    "\n",
    "- Tasa de resolución de casos de la fuerza policial por categoría de caso (considerando aquellos casos en los que no participó Batman). \n",
    "    \n",
    "---"
   ]
  },
  {
   "cell_type": "code",
   "execution_count": 45,
   "metadata": {},
   "outputs": [],
   "source": [
    "# Set-up y vista rápida de las dos bases de datos truchas\n",
    "import pyspark\n",
    "\n",
    "spark = pyspark.sql.SparkSession.builder.appName(\"Batman\").getOrCreate()\n",
    "df_gcpd = spark.read.csv('../data/2018C1_GCPD.csv', header=True)\n",
    "df_gcpd.createOrReplaceTempView('GCPD')\n",
    "df_gordon = spark.read.csv('../pandas/data/2018C1_gordon.csv', header=True)\n",
    "df_gordon.createOrReplaceTempView('GORDON')"
   ]
  },
  {
   "cell_type": "code",
   "execution_count": 83,
   "metadata": {},
   "outputs": [
    {
     "name": "stdout",
     "output_type": "stream",
     "text": [
      "+---------+------------------+\n",
      "|categoria|   tasa_resolucion|\n",
      "+---------+------------------+\n",
      "|     Robo|0.3333333333333333|\n",
      "|   Arseny|               0.0|\n",
      "| Incendio|               0.0|\n",
      "+---------+------------------+\n",
      "\n"
     ]
    }
   ],
   "source": [
    "query = \"SELECT GCPD.categoria, (SUM(case when GCPD.estado_caso=2 then 1 else 0 end) / COUNT(GCPD.estado_caso)) as tasa_resolucion \\\n",
    "        from GCPD left join GORDON on GCPD.id_caso = GORDON.id_caso \\\n",
    "        where GORDON.respuesta=0 or GORDON.respuesta is null \\\n",
    "        group by GCPD.categoria\"\n",
    "\n",
    "spark.sql(query).show()"
   ]
  }
 ],
 "metadata": {
  "kernelspec": {
   "display_name": "Python 3",
   "language": "python",
   "name": "python3"
  },
  "language_info": {
   "codemirror_mode": {
    "name": "ipython",
    "version": 3
   },
   "file_extension": ".py",
   "mimetype": "text/x-python",
   "name": "python",
   "nbconvert_exporter": "python",
   "pygments_lexer": "ipython3",
   "version": "3.6.6"
  },
  "toc": {
   "base_numbering": 1,
   "nav_menu": {},
   "number_sections": true,
   "sideBar": true,
   "skip_h1_title": false,
   "title_cell": "Table of Contents",
   "title_sidebar": "Contents",
   "toc_cell": false,
   "toc_position": {},
   "toc_section_display": true,
   "toc_window_display": false
  }
 },
 "nbformat": 4,
 "nbformat_minor": 2
}
