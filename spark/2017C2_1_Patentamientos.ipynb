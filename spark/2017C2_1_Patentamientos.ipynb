{
 "cells": [
  {
   "cell_type": "markdown",
   "metadata": {},
   "source": [
    "# Consigna\n",
    "\n",
    "Link al parcial: https://piazza.com/class_profile/get_resource/jkr2voxi1yw4wt/jkr2vqsotjd4yk\n",
    "\n",
    "Se cuenta con un RDD con información sobre patentamientos de autos con la siguiente información (patente, marca, modelo, versión, tipo_vehiculo, provincia, fecha), donde tipo_vehiculo indica si la unidad patentada es auto, pickup, camión o moto. \n",
    "\n",
    "Se pide generar un programa en pySpark que indique la marca y modelo del auto más patentado por tipo de vehículo en la provincia de Buenos Aires en el mes de Abril de 2017. "
   ]
  },
  {
   "cell_type": "code",
   "execution_count": null,
   "metadata": {},
   "outputs": [],
   "source": [
    "from pyspark import SparkContext\n",
    "#  Por si hay mas de un contexto de PySpark corriendo (por ejemplo, otro Notebook), esto para utilizar el mismo.\n",
    "sc = SparkContext.getOrCreate()"
   ]
  },
  {
   "cell_type": "code",
   "execution_count": null,
   "metadata": {},
   "outputs": [],
   "source": [
    "#  Creamos algunos datos para poder hacer el seguimiento de la resolución.\n",
    "#  El resultado final debería ser ('Chevrolet', 'Sonic'), ('Ford', 'Cargo 712') y ('Honda', 'Hornet 160R').\n",
    "\n",
    "datos_patentamientos = [\n",
    "    ('MHG 100', 'Fiat', 'Siena', 1, 'auto', 'Buenos Aires', '2017-03-15'),\n",
    "    ('MHG 101', 'Ford', 'Cargo 712', 2, 'camion', 'Chaco', '2017-03-19'),\n",
    "    ('MHG 102', 'Ford', 'Cargo 712', 4, 'camion', 'Buenos Aires', '2017-04-01'),\n",
    "    ('MHG 103', 'Fiat', 'Siena', 2, 'auto', 'Buenos Aires', '2017-04-02'),\n",
    "    ('MHG 104', 'Chevrolet', 'Sonic', 1, 'auto', 'Buenos Aires', '2017-04-02'),\n",
    "    ('MHG 105', 'Fiat', 'Siena', 3, 'auto', 'Uruguay', '2017-04-03'),\n",
    "    ('MHG 106', 'Fiat', 'Siena', 1, 'auto', 'Buenos Aires', '2017-04-05'),\n",
    "    ('MHG 107', 'Chevrolet', 'Sonic', 2, 'auto', 'Buenos Aires', '2017-04-17'),\n",
    "    ('MHG 108', 'Chevrolet', 'Sonic', 1, 'auto', 'Buenos Aires', '2017-04-19'),\n",
    "    ('MHG 109', 'Ford', 'Cargo 712', 4, 'camion', 'Buenos Aires', '2017-04-19'),\n",
    "    ('MHG 110', 'Ford', 'Cargo 712', 2, 'camion', 'Buenos Aires', '2017-04-19'),\n",
    "    ('MHG 111', 'Fiat', 'Siena', 3, 'auto', 'Cordoba', '2017-04-20'),\n",
    "    ('MHG 112', 'Chevrolet', 'Sonic', 2, 'auto', 'Buenos Aires', '2017-04-21'),\n",
    "    ('MHG 113', 'Fiat', 'Sedan', 2, 'auto', 'Buenos Aires', '2017-04-23'),\n",
    "    ('MHG 114', 'Fiat', 'Sedan', 1, 'auto', 'Buenos Aires', '2017-04-24'),\n",
    "    ('MHG 115', 'Honda', 'Hornet 160R', 1, 'moto', 'Buenos Aires', '2017-04-25'),\n",
    "    ('MHG 116', 'Honda', 'Hornet 160R', 1, 'moto', 'Buenos Aires', '2017-04-25'),\n",
    "    ('MHG 117', 'Ducati', 'SuperSport', 1, 'moto', 'Buenos Aires', '2017-04-26'),\n",
    "    ('MHG 118', 'Scania', '420', 4, 'camion', 'Buenos Aires', '2017-04-26')\n",
    "]"
   ]
  },
  {
   "cell_type": "markdown",
   "metadata": {},
   "source": [
    "# Resolución\n",
    "\n",
    "Nos piden filtrar por fecha y provincia. Luego agrupar por tipo_vehiculo, marca y modelo, y encontrar el vehículo más patentado por tipo_vehiculo.\n",
    "\n",
    "Observación: Es importante notar que en __ningun__ caso vamos a realizar ordenamientos, ya que son operaciones muy costosas y no son necesarias para la resolución de este ejercicio."
   ]
  },
  {
   "cell_type": "markdown",
   "metadata": {},
   "source": [
    "### Paso 1\n",
    "\n",
    "Cargamos los datos en un RDD, y luego aplicamos el filtro por las dos condiciones que nos indican en el enunciado. \n",
    "\n",
    "Además, nos quedamos con tuplas de la pinta `((tipo_vehiculo, (marca, modelo)), 1)` para poder realizar un reduceByKey en el paso siguiente y obtener la cantidad de patentamientos totales para cada vehículo.\n",
    "\n",
    "Observación: vehículo == (marca, modelo)"
   ]
  },
  {
   "cell_type": "code",
   "execution_count": null,
   "metadata": {},
   "outputs": [],
   "source": [
    "rdd_pt = sc.parallelize(datos_patentamientos)"
   ]
  },
  {
   "cell_type": "code",
   "execution_count": null,
   "metadata": {},
   "outputs": [],
   "source": [
    "#  Header de rdd_pt: [patente, marca, modelo, versión, tipo_vehiculo, provincia, fecha]\n",
    "\n",
    "CAMPO_PROVINCIA = 5\n",
    "CAMPO_FECHA = 6\n",
    "\n",
    "CAMPO_MODELO = 2\n",
    "CAMPO_MARCA = 1\n",
    "CAMPO_TIPO_VEHICULO = 4\n",
    "\n",
    "def organizar_clave(x):\n",
    "    return ((x[CAMPO_TIPO_VEHICULO], \n",
    "                 (x[CAMPO_MARCA], x[CAMPO_MODELO])\n",
    "            ), 1)\n",
    "\n",
    "rdd_pt = rdd_pt.filter(lambda x: x[CAMPO_PROVINCIA] == 'Buenos Aires' and x[CAMPO_FECHA].startswith('2017-04')).map(organizar_clave)\n",
    "rdd_pt.collect()"
   ]
  },
  {
   "cell_type": "markdown",
   "metadata": {},
   "source": [
    "### Paso 2\n",
    "\n",
    "Haremos un `reduceByKey` para obtener el total de patentamientos de cada `(marca, modelo)` por `tipo_vehiculo`. \n",
    "\n",
    "Luego reorganizaremos los datos con `map` para tener tuplas del estilo `(tipo_vehiculo, ((marca, modelo), total_patentamientos)` lo cual será necesario para el paso final.\n",
    "\n",
    "Observación: Notar que las claves por las que se agrupa son de la pinta `(tipo_vehiculo, (marca, modelo))`."
   ]
  },
  {
   "cell_type": "code",
   "execution_count": null,
   "metadata": {},
   "outputs": [],
   "source": [
    "def acomodar_modelo(x):\n",
    "    return (x[0][0], (x[0][1], x[1]))\n",
    "\n",
    "rdd_pt = rdd_pt.reduceByKey(lambda a,b: a+b).map(acomodar_modelo)\n",
    "rdd_pt.collect()"
   ]
  },
  {
   "cell_type": "markdown",
   "metadata": {},
   "source": [
    "### Paso 3\n",
    "\n",
    "Finalmente aplicaremos otro `reduceByKey` para obtener el vehículo con mayor cantidad de patentamientos por tipo de vehículo.\n",
    "\n",
    "Observación: Notar que `a[1]` es el segundo elemento de la tupla `((marca, modelo), total)`."
   ]
  },
  {
   "cell_type": "code",
   "execution_count": null,
   "metadata": {},
   "outputs": [],
   "source": [
    "rdd_pt = rdd_pt.reduceByKey(lambda a,b: a if a[1] > b[1] else b)\n",
    "print(\"\\n\".join(rdd_pt.map(lambda x: x[0] + ': ' + \" \".join(x[1][0])).collect()))"
   ]
  }
 ],
 "metadata": {
  "kernelspec": {
   "display_name": "Python 3",
   "language": "python",
   "name": "python3"
  },
  "language_info": {
   "codemirror_mode": {
    "name": "ipython",
    "version": 3
   },
   "file_extension": ".py",
   "mimetype": "text/x-python",
   "name": "python",
   "nbconvert_exporter": "python",
   "pygments_lexer": "ipython3",
   "version": "3.7.3"
  }
 },
 "nbformat": 4,
 "nbformat_minor": 2
}
