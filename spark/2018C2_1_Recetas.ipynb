{
 "cells": [
  {
   "cell_type": "markdown",
   "metadata": {},
   "source": [
    "# Consigna\n",
    "\n",
    "Link a la consigna: https://piazza.com/class_profile/get_resource/jkr2voxi1yw4wt/jnj49wdk7mfw9\n",
    "\n",
    "Tenemos  información  sobre recetas en 3 RDD de Spark. \n",
    "\n",
    "Recetas: (id_receta, nombre, tiempo_preparación, dificultad) \n",
    "\n",
    "Ingredientes: (id_ingrediente, nombre) \n",
    "\n",
    "Ingredientes   por   Receta:  (id_receta, id_ingrediente, cantidad) \n",
    "\n",
    "Se pide: \n",
    "\n",
    "a)  Obtener  el  nombre  de  todas  las recetas que tengan Cordero. (7 puntos) \n",
    "\n",
    "b)  Calcular  la  cantidad  total  de  cada ingrediente si queremos hacer todas las recetas con Cordero que sean fáciles. (8 puntos)"
   ]
  },
  {
   "cell_type": "code",
   "execution_count": null,
   "metadata": {},
   "outputs": [],
   "source": [
    "import pyspark\n",
    "sc = pyspark.SparkContext.getOrCreate()\n",
    "sqlContext = pyspark.sql.SQLContext(sc)"
   ]
  },
  {
   "cell_type": "code",
   "execution_count": null,
   "metadata": {},
   "outputs": [],
   "source": [
    "rdd_recetas = sqlContext.read.csv('../data/2018C2_recetas.csv').rdd\n",
    "rdd_ingredientes = sqlContext.read.csv('../data/2018C2_ingredientes.csv').rdd\n",
    "rdd_ingredientesxreceta = sqlContext.read.csv('../data/2018C2_ingredientesporreceta.csv').rdd"
   ]
  },
  {
   "cell_type": "markdown",
   "metadata": {},
   "source": [
    "## Punto A"
   ]
  },
  {
   "cell_type": "markdown",
   "metadata": {},
   "source": [
    "Tener en cuenta que **NO esta bien hacer los collects intermedios**. Solo el final. Los hago para visualizar mejor los pasos del ejercicio, pero el collect es una acción costosa, solo debe ser utilizada cuando se tiene el absoluto mínimo necesario."
   ]
  },
  {
   "cell_type": "markdown",
   "metadata": {},
   "source": [
    "Filtro ingredientes para tener solo 'Cordero' como un RDD y en un inner join poder filtrar las recetas"
   ]
  },
  {
   "cell_type": "code",
   "execution_count": null,
   "metadata": {},
   "outputs": [],
   "source": [
    "cordero = rdd_ingredientes.filter(lambda x:x[1] == 'Cordero')\n",
    "cordero.collect()"
   ]
  },
  {
   "cell_type": "markdown",
   "metadata": {},
   "source": [
    "Me quedo con la tupla (id_ingrediente, id_receta) para despues hacer un join y solo quedarme con las recetas con cordero. Depsués, me quedo con los id de recetas"
   ]
  },
  {
   "cell_type": "code",
   "execution_count": null,
   "metadata": {},
   "outputs": [],
   "source": [
    "recetasconcordero = rdd_ingredientesxreceta.map(lambda x:(x[1],x[0]))\\\n",
    "                                           .join(cordero)\\\n",
    "                                           .map(lambda x:(x[1][0],None))\n",
    "recetasconcordero.collect()"
   ]
  },
  {
   "cell_type": "markdown",
   "metadata": {},
   "source": [
    "De las recetas solo me quedo con su id y nombre. Luego, otra vez haciendo un inner join como filtro, me quedo con las recetas de corderos. De ahi, me quedo con los nombres.\n",
    "\n",
    "Finalizo con un collect."
   ]
  },
  {
   "cell_type": "code",
   "execution_count": null,
   "metadata": {},
   "outputs": [],
   "source": [
    "nombresrecetacordero = rdd_recetas.map(lambda x:(x[0],x[1]))\\\n",
    "                                  .join(recetasconcordero)\\\n",
    "                                  .map(lambda x:(x[1][0]))\\\n",
    "\n",
    "nombresrecetacordero.collect()"
   ]
  },
  {
   "cell_type": "markdown",
   "metadata": {},
   "source": [
    "## Punto B"
   ]
  },
  {
   "cell_type": "markdown",
   "metadata": {},
   "source": [
    "Me quedo con las recetas fáciles."
   ]
  },
  {
   "cell_type": "code",
   "execution_count": null,
   "metadata": {},
   "outputs": [],
   "source": [
    "recetasfaciles = rdd_recetas.filter(lambda x:x[3]=='facil')\\\n",
    "                            .map(lambda x:(x[0],None))\n",
    "\n",
    "recetasfaciles.collect()"
   ]
  },
  {
   "cell_type": "markdown",
   "metadata": {},
   "source": [
    "Inner join me sirve de filtro --> Tengo recetas faciles con cordero"
   ]
  },
  {
   "cell_type": "code",
   "execution_count": null,
   "metadata": {},
   "outputs": [],
   "source": [
    "# Copiando del ejercicio anterior la variable recetas con cordero:\n",
    "recetasconcordero = rdd_ingredientesxreceta.map(lambda x:(x[1],x[0]))\\\n",
    "                                           .join(cordero)\\\n",
    "                                           .map(lambda x:(x[1][0],None))"
   ]
  },
  {
   "cell_type": "code",
   "execution_count": null,
   "metadata": {},
   "outputs": [],
   "source": [
    "recetasfacilesconcordero = recetasfaciles.join(recetasconcordero)\\\n",
    "                                         .map(lambda x:(x[0],None))\n",
    "\n",
    "recetasfacilesconcordero.collect()"
   ]
  },
  {
   "cell_type": "markdown",
   "metadata": {},
   "source": [
    "Convierto el RDD de ingredientes x receta para que sea de tipo clave, valor, para poder hacer un join normalmente"
   ]
  },
  {
   "cell_type": "code",
   "execution_count": null,
   "metadata": {},
   "outputs": [],
   "source": [
    "rdd_ingredientesxreceta_mod = rdd_ingredientesxreceta.map(lambda x:(x[0],(x[1],x[2])))\n",
    "rdd_ingredientesxreceta_mod.collect()"
   ]
  },
  {
   "cell_type": "markdown",
   "metadata": {},
   "source": [
    "Me quedo con la tupla (id_ingrediente, cantidad) y sumo las cantidades por ingrediente)"
   ]
  },
  {
   "cell_type": "code",
   "execution_count": null,
   "metadata": {},
   "outputs": [],
   "source": [
    "ingredientesrecetasfacilesconcordero = rdd_ingredientesxreceta_mod.join(recetasfacilesconcordero)\\\n",
    "                                                              .map(lambda x:(x[1][0][0],x[1][0][1]))\\\n",
    "                                                              .reduceByKey(lambda x,y:x+y)\n",
    "\n",
    "ingredientesrecetasfacilesconcordero.collect()"
   ]
  },
  {
   "cell_type": "markdown",
   "metadata": {},
   "source": [
    "Me quedo con la tupla (nombre_ingrediente, cantidad)"
   ]
  },
  {
   "cell_type": "code",
   "execution_count": null,
   "metadata": {},
   "outputs": [],
   "source": [
    "ingredientesrecetasfacilesconcordero_connombre = ingredientesrecetasfacilesconcordero.join(rdd_ingredientes)\\\n",
    "                                                              .map(lambda x:(x[1][1],x[1][0]))\n",
    "\n",
    "ingredientesrecetasfacilesconcordero_connombre.collect()"
   ]
  }
 ],
 "metadata": {
  "kernelspec": {
   "display_name": "Python 3",
   "language": "python",
   "name": "python3"
  },
  "language_info": {
   "codemirror_mode": {
    "name": "ipython",
    "version": 3
   },
   "file_extension": ".py",
   "mimetype": "text/x-python",
   "name": "python",
   "nbconvert_exporter": "python",
   "pygments_lexer": "ipython3",
   "version": "3.7.3"
  },
  "toc": {
   "base_numbering": 1,
   "nav_menu": {},
   "number_sections": false,
   "sideBar": true,
   "skip_h1_title": false,
   "title_cell": "Table of Contents",
   "title_sidebar": "Contents",
   "toc_cell": false,
   "toc_position": {},
   "toc_section_display": true,
   "toc_window_display": false
  }
 },
 "nbformat": 4,
 "nbformat_minor": 2
}
