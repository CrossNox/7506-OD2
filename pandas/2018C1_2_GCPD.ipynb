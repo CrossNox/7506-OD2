{
 "cells": [
  {
   "cell_type": "markdown",
   "metadata": {},
   "source": [
    "El GCPD recolecta la información de casos policiales que acontecen en Ciudad Gótica. Esta informacióñ se encuentra guarada en un archivo con el siguiente formato:\n",
    "\n",
    "(fecha, id_caso, descripción, estado_caso, categoria, latitud, longitud)\n",
    "\n",
    "Los posibels estados que puede tener un caso son 1: caso abierto, 2: caso resuelto, 3: cerrado sin resolucion.\n",
    "\n",
    "Las fechas se encuentran en el formato YYYY-MM-DD.\n",
    "\n",
    "Por otro lado el comisionado Gordon guarda un registro detallado sobre en cuales casos fue activada la batiseñal para pedir ayuda del vigilante, Batman. Esta información se encuentra en un archivo con el siguiente formato (id_caso, respeusta), siendo campo respuesta si la señal tuvo una respuesta positiva (1) o negativa (0) de parte de él.\n",
    "\n",
    "El sector encargado de las estadísticas oficiales del GCPD quiere analizar las siguientes situaciones:\n",
    "\n",
    "a) Las categorias que hayan incrementado su tasa de resolución al menos un 10% en el último trimestre, con respecto al trimestre anterior.\n",
    "\n",
    "b) Tasa de participación de Batman por categoria, para los delitos contra la propiedad (que enmarcan las categorías incendio intencional, robo, hurto y robo de vehiculos).\n",
    "\n",
    "Resolver ambas consultas utilizando Pandas.\n",
    "\n",
    "[Resolución de colaborador de la materia](https://gist.github.com/Roj/a19d82c1b8ebcb0198dc4773752b852a)\n",
    "\n",
    "[Link](https://piazza.com/class_profile/get_resource/jkr2voxi1yw4wt/jkr2vqroi7u4xe)"
   ]
  },
  {
   "cell_type": "code",
   "execution_count": null,
   "metadata": {},
   "outputs": [],
   "source": [
    "# Set-up y vista rápida de los dos sets de datos sintéticos\n",
    "import pandas as pd\n",
    "\n",
    "CASO_ABIERTO = 1\n",
    "CASO_RESUELTO = 2\n",
    "CASO_CERRADO = 3\n",
    "\n",
    "BATMAN_NO_PARTICIPA = 0\n",
    "BATMAN_PARTICIPA = 1\n",
    "\n",
    "df_gcpd = pd.read_csv('../data/2018C1_GCPD.csv')\n",
    "df_gcpd['fecha'] = pd.to_datetime(df_gcpd['fecha'],format='%Y-%m-%d')\n",
    "display(df_gcpd)\n",
    "\n",
    "df_gordon = pd.read_csv('../data/2018C1_gordon.csv')\n",
    "display(df_gordon)"
   ]
  },
  {
   "cell_type": "markdown",
   "metadata": {},
   "source": [
    "**a) Las categorias que hayan incrementado su tasa de resolución al menos un 10% en el último trimestre, con respecto al trimestre anterior.**\n",
    "\n",
    "- Agregamos una columna que indique el trimestre\n",
    "- Nos quedamos con el trimestre anterior (3) y el anterior (2)\n",
    "- Pivoteamos por trimestre y categoría\n",
    "    - Contamos el % de casos resueltos en cada grupo\n",
    "- Filtramos las categorías donde haya aumentado ese %"
   ]
  },
  {
   "cell_type": "code",
   "execution_count": null,
   "metadata": {},
   "outputs": [],
   "source": [
    "df_gcpd['trimestre'] = df_gcpd.fecha.dt.month % 4\n",
    "df_trimestres = df_gcpd[df_gcpd.trimestre.isin([3,2])]\n",
    "df_tasa_por_trimestre = df_trimestres.pivot_table(columns='trimestre',index='categoria',aggfunc=lambda x: (x==CASO_RESUELTO).mean(),values='estado_caso').fillna(0)\n",
    "df_tasa_por_trimestre[df_tasa_por_trimestre[3] > df_tasa_por_trimestre[2]].index.values.tolist()"
   ]
  },
  {
   "cell_type": "markdown",
   "metadata": {},
   "source": [
    "**b) Tasa de participación de Batman por categoria, para los delitos contra la propiedad (que enmarcan las categorías incendio intencional, robo, hurto y robo de vehiculos).**\n",
    "\n",
    "- Agrupamos los dos dataframes\n",
    "- Nos quedamos con los delitos contra la propiedad\n",
    "- Agrupamos por categoría\n",
    "    - Dentro de cada grupo calculamos el % de respuesta"
   ]
  },
  {
   "cell_type": "code",
   "execution_count": null,
   "metadata": {},
   "outputs": [],
   "source": [
    "DELITOS_CONTRA_LA_PROPIEDAD = set(['Incendio', 'Robo', 'Hurto', 'Robo de Vehículo']) \n",
    "df = df_gcpd.merge(df_gordon,how='left',on='id_caso')\n",
    "df = df[df.categoria.isin(DELITOS_CONTRA_LA_PROPIEDAD)] \n",
    "df.groupby('categoria')['respuesta'].apply(lambda x: (x==BATMAN_PARTICIPA).mean()).rename('tasa de respuesta')"
   ]
  }
 ],
 "metadata": {
  "kernelspec": {
   "display_name": "Python 3",
   "language": "python",
   "name": "python3"
  },
  "language_info": {
   "codemirror_mode": {
    "name": "ipython",
    "version": 3
   },
   "file_extension": ".py",
   "mimetype": "text/x-python",
   "name": "python",
   "nbconvert_exporter": "python",
   "pygments_lexer": "ipython3",
   "version": "3.7.3"
  },
  "toc": {
   "base_numbering": 1,
   "nav_menu": {},
   "number_sections": true,
   "sideBar": true,
   "skip_h1_title": false,
   "title_cell": "Table of Contents",
   "title_sidebar": "Contents",
   "toc_cell": false,
   "toc_position": {},
   "toc_section_display": true,
   "toc_window_display": false
  }
 },
 "nbformat": 4,
 "nbformat_minor": 2
}
