{
 "cells": [
  {
   "cell_type": "markdown",
   "metadata": {},
   "source": [
    "Un  sitio  de  E books  tiene  información  sobre  los  reviews  que  los  usuarios hacen  de  sus  libros  en  un  DataFrame  con  formato  (user_id,  book_id,  rating, timestamp). \n",
    "\n",
    "Por otro lado tenemos información en otro DataFrame que bajamos de  GoodReads:  (book_id,  book_name,  avg_rating).  Podemos  suponer  que  los Ids de los libros son compatibles. \n",
    "\n",
    "Se pide usar Python Pandas para:\n",
    "\n",
    "1. Obtener un DataFrame que indique el TOP5 de Ebooks en el sitio de Ebooks. (Para este punto se puede ignorar el segundo DataFrame).\n",
    "2. Obtener un DataFrame que indique qué libros tienen una diferencia de rating promedio mayor al 20% entre el sitio de Ebooks y GoodReads.\n",
    "\n",
    "[Link](https://piazza.com/class_profile/get_resource/jkr2voxi1yw4wt/jkr2vqsptt94yl)"
   ]
  },
  {
   "cell_type": "code",
   "execution_count": null,
   "metadata": {},
   "outputs": [],
   "source": [
    "# Set-up y vista rápida de los dos datasets sintéticos\n",
    "import pandas as pd\n",
    "\n",
    "ebooks_df = pd.read_csv('../data/2017C1_1_ebooks.csv')\n",
    "display(ebooks_df)\n",
    "\n",
    "goodreads_df = pd.read_csv('../data/2017C1_1_goodreads.csv')\n",
    "display(goodreads_df)"
   ]
  },
  {
   "cell_type": "markdown",
   "metadata": {},
   "source": [
    "**1. Obtener un DataFrame que indique el TOP5 de Ebooks en el sitio de Ebooks. (Para este punto se puede ignorar el segundo DataFrame)**\n",
    "\n",
    "Los pasos a seguir serían los siguientes:\n",
    "\n",
    "1. Agrupamos por libro\n",
    "2. Calculamos el score de cada libro en base a los ratings\n",
    "3. Tomamos el top5"
   ]
  },
  {
   "cell_type": "code",
   "execution_count": null,
   "metadata": {},
   "outputs": [],
   "source": [
    "def score(s):\n",
    "    return s.mean()\n",
    "\n",
    "ebooks_df.groupby('book_id').agg({'rating':score}).nlargest(5, 'rating')"
   ]
  },
  {
   "cell_type": "markdown",
   "metadata": {},
   "source": [
    "Notar que en el paso anterior usamos el promedio como función de score, pero esto trae un problema: Si consideramos libros con pocas reviews muy positivas, no es representativo realmente. Es una consecuencia de la [ecuación mas peligrosa de la historia](http://www-stat.wharton.upenn.edu/~hwainer/Readings/Most%20Dangerous%20eqn.pdf). Un approach más inteligente sería considerar la cantidad de reviews también."
   ]
  },
  {
   "cell_type": "markdown",
   "metadata": {},
   "source": [
    "**2. Obtener un DataFrame que indique qué libros tienen una diferencia de rating promedio mayor al 20% entre el sitio de Ebooks y GoodReads**\n",
    "\n",
    "Acá, vamos a tener que juntar los dos dataframes, calcular el rating promedio del primer dataframe, calcular la el porcentaje de ese rating promedio sobre el promedio de goodreads, filtrar donde ese número sea mayor al 20% y devolver todos los nombres.\n",
    "\n",
    "Entonces:\n",
    "\n",
    "\n",
    "1. Calcular el rating del primer dataset\n",
    "1. Hacer un inner join entre ambos datasets, usando la columna de book_id para juntar.\n",
    "1. Devolver los nombres donde la diferencia sea mayor al 20%"
   ]
  },
  {
   "cell_type": "code",
   "execution_count": null,
   "metadata": {},
   "outputs": [],
   "source": [
    "ebooks_df_mean = ebooks_df.groupby('book_id').agg({'rating':score})"
   ]
  },
  {
   "cell_type": "code",
   "execution_count": null,
   "metadata": {},
   "outputs": [],
   "source": [
    "df_total = goodreads_df.join(ebooks_df_mean, on='book_id',how='inner')\n",
    "df_total"
   ]
  },
  {
   "cell_type": "code",
   "execution_count": null,
   "metadata": {},
   "outputs": [],
   "source": [
    "df_total[(df_total.rating/df_total.avg_rating - 1.0).abs() > 0.2].book_name.tolist()"
   ]
  }
 ],
 "metadata": {
  "kernelspec": {
   "display_name": "Python 3",
   "language": "python",
   "name": "python3"
  },
  "language_info": {
   "codemirror_mode": {
    "name": "ipython",
    "version": 3
   },
   "file_extension": ".py",
   "mimetype": "text/x-python",
   "name": "python",
   "nbconvert_exporter": "python",
   "pygments_lexer": "ipython3",
   "version": "3.7.3"
  },
  "toc": {
   "base_numbering": 1,
   "nav_menu": {},
   "number_sections": true,
   "sideBar": true,
   "skip_h1_title": false,
   "title_cell": "Table of Contents",
   "title_sidebar": "Contents",
   "toc_cell": false,
   "toc_position": {},
   "toc_section_display": true,
   "toc_window_display": false
  }
 },
 "nbformat": 4,
 "nbformat_minor": 2
}
