{
 "cells": [
  {
   "cell_type": "markdown",
   "metadata": {},
   "source": [
    "Se tiene un RDD con las coordenadas de rectángulos de la forma\n",
    "(x1,x2,y1,y2). Se pide programar en PySpark un programa que\n",
    "encuentre el rectángulo de superficie mínima que contiene al punto\n",
    "(w,z) "
   ]
  },
  {
   "cell_type": "markdown",
   "metadata": {},
   "source": [
    "Creo una lista de tuplas como las del RDD propuesto que indican rectabgulos dentro de la region `-10 <= X <= 10, -10 <= Y <= 10`. Y genero el RDD de prueba."
   ]
  },
  {
   "cell_type": "code",
   "execution_count": 30,
   "metadata": {},
   "outputs": [],
   "source": [
    "from random import uniform as uf\n",
    "puntos = []\n",
    "def coord():\n",
    "    return round(uf(-10.0,10.0),1)\n",
    "for _ in range(1000):\n",
    "    puntos.append((coord(),coord(),coord(),coord()))\n",
    "    \n",
    "rdd = sc.parallelize(puntos)"
   ]
  },
  {
   "cell_type": "code",
   "execution_count": 31,
   "metadata": {},
   "outputs": [
    {
     "name": "stdout",
     "output_type": "stream",
     "text": [
      "Punto aleatorio: (-7.3, -5.7)\n"
     ]
    }
   ],
   "source": [
    "punto_a_encontrar = (coord(),coord())\n",
    "\n",
    "print(\"Punto aleatorio: {}\".format(punto_a_encontrar))\n",
    "\n",
    "#devuelve un booleano que indica si el point esta dentro de square\n",
    "#notar que usamos el punto a encontrar como valor por defecto para point\n",
    "def square_contains(square,point=punto_a_encontrar):\n",
    "    x1, x2 = sorted([square[0],square[1]])\n",
    "    y1, y2 = sorted([square[2],square[3]])\n",
    "    return (point[0] >= x1 and point[0] <= x2) and \\\n",
    "            (point[1] >= y1 and point[1] <= y2)\n",
    "    \n",
    "#devuelve el area de un cuadrado\n",
    "def area(square):\n",
    "    x1, x2 = sorted([square[0],square[1]])\n",
    "    y1, y2 = sorted([square[2],square[3]])\n",
    "    return abs(x2-x1)*abs(y2-y1)"
   ]
  },
  {
   "cell_type": "markdown",
   "metadata": {},
   "source": [
    "Primero filtramos los rectangulos que contienen el punto con la funcion auxiliar definida."
   ]
  },
  {
   "cell_type": "code",
   "execution_count": 32,
   "metadata": {},
   "outputs": [],
   "source": [
    "rdd = rdd.filter(square_contains)"
   ]
  },
  {
   "cell_type": "markdown",
   "metadata": {},
   "source": [
    "Luego obtenemos el registro con el maximo valor de area usando `.max` con `area` como clave de ordenamiento."
   ]
  },
  {
   "cell_type": "code",
   "execution_count": 33,
   "metadata": {},
   "outputs": [
    {
     "data": {
      "text/plain": [
       "(9.5, -9.0, 9.8, -6.8)"
      ]
     },
     "execution_count": 33,
     "metadata": {},
     "output_type": "execute_result"
    }
   ],
   "source": [
    "rdd.max(key=area)"
   ]
  }
 ],
 "metadata": {
  "kernelspec": {
   "display_name": "PySpark",
   "language": "python",
   "name": "pyspark"
  },
  "language_info": {
   "codemirror_mode": {
    "name": "ipython",
    "version": 3
   },
   "file_extension": ".py",
   "mimetype": "text/x-python",
   "name": "python",
   "nbconvert_exporter": "python",
   "pygments_lexer": "ipython3",
   "version": "3.6.3"
  }
 },
 "nbformat": 4,
 "nbformat_minor": 2
}
