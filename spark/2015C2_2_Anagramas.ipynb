{
 "cells": [
  {
   "cell_type": "markdown",
   "metadata": {},
   "source": [
    "Se tiene un RDD con libros en donde cada registro es un texto. Se\n",
    "pide obtener todos los anagramas de mas de 7 letras que puedan\n",
    "encontrarse. El formato de salida debe ser una lista de listas en donde\n",
    "cada lista tiene un conjunto de palabras que son anagramas. Ejemplo:\n",
    "[[discounter,introduces,reductions],[percussion,supersonic]...]  \n",
    "[Link](https://piazza.com/class_profile/get_resource/jkr2voxi1yw4wt/jkr2vqthf114z4)"
   ]
  },
  {
   "cell_type": "markdown",
   "metadata": {},
   "source": [
    "Voy a armar un RDD de prueba con dos articulos que contienen las palabras 'percussion' y 'supersonic'"
   ]
  },
  {
   "cell_type": "code",
   "execution_count": null,
   "metadata": {},
   "outputs": [],
   "source": [
    "from pyspark import SparkContext\n",
    "sc = SparkContext.getOrCreate()\n",
    "\n",
    "import wikipedia as wp\n",
    "wp.set_lang('en')\n",
    "articulo1 = wp.page('F-35').content\n",
    "articulo2 = wp.page('Cajón de rumba').content\n",
    "rdd = sc.parallelize([articulo1,articulo2])"
   ]
  },
  {
   "cell_type": "markdown",
   "metadata": {},
   "source": [
    "Obtenemos las palabras de cada articulo (sin chequeo alguno, de una manera muy naive), lo cual nos da un RDD de listas de palabras. Para convertirlo en un un RDD de palabras usamos `flatMap`."
   ]
  },
  {
   "cell_type": "code",
   "execution_count": null,
   "metadata": {},
   "outputs": [],
   "source": [
    "rdd = rdd.map(lambda x: x.replace(\"\\n\",\"\").split(\" \")) #tokenizer naive\n",
    "rdd = rdd.flatMap(lambda x: x).filter(lambda x: len(x) > 7)"
   ]
  },
  {
   "cell_type": "markdown",
   "metadata": {},
   "source": [
    "Los anagramas son palabras o frases que contienen las mismas letras. En este caso particularmente son palabras nada mas. Dos palabras que tienen las mismas letras coinciden letras y cantidad de veces que aparercen, entonces no serviria por ejemplo usar el set de letras de dos palabras para saber si son anagramas, ya que perdemos la informacion de cuantas veces aparece cada letra.  \n",
    "Si ordenamos las letras de ambas palabras, esas dos listas conciden si (solo si) son anagramas.\n",
    "Como podemos tener las palabras comenzando en mayusculas, pasamos todo a minuscula primero. Luego usamos la lista ordenada de letras para agrupar. Eso nos da un RDD de `<lista ordenada, iterable de palabras>`."
   ]
  },
  {
   "cell_type": "code",
   "execution_count": null,
   "metadata": {},
   "outputs": [],
   "source": [
    "rdd = rdd.map(lambda x: x.lower())\n",
    "rdd = rdd.map(lambda x: (tuple(sorted(x)),x))"
   ]
  },
  {
   "cell_type": "markdown",
   "metadata": {},
   "source": [
    "Hay que tener en cuenta que la misma palabra puede aparecer varias veces en un mismo articulo o entre todos. Hay que eliminar las repeticiones. La forma sencilla con python es convertir ese iterable a un `set`."
   ]
  },
  {
   "cell_type": "code",
   "execution_count": null,
   "metadata": {},
   "outputs": [],
   "source": [
    "rdd = rdd.groupByKey().mapValues(set)"
   ]
  },
  {
   "cell_type": "markdown",
   "metadata": {},
   "source": [
    "Filtramos para obtener los sets donde hay mas de una palabra. Luego convertimos los sets a listas segun se pidio."
   ]
  },
  {
   "cell_type": "code",
   "execution_count": null,
   "metadata": {},
   "outputs": [],
   "source": [
    "rdd = rdd.filter(lambda x: len(x[1]) > 1)\n",
    "rdd = rdd.map(lambda x: list(x[1]))\n",
    "rdd.collect()"
   ]
  }
 ],
 "metadata": {
  "kernelspec": {
   "display_name": "Python 3",
   "language": "python",
   "name": "python3"
  },
  "language_info": {
   "codemirror_mode": {
    "name": "ipython",
    "version": 3
   },
   "file_extension": ".py",
   "mimetype": "text/x-python",
   "name": "python",
   "nbconvert_exporter": "python",
   "pygments_lexer": "ipython3",
   "version": "3.7.3"
  },
  "toc": {
   "base_numbering": 1,
   "nav_menu": {},
   "number_sections": true,
   "sideBar": true,
   "skip_h1_title": false,
   "title_cell": "Table of Contents",
   "title_sidebar": "Contents",
   "toc_cell": false,
   "toc_position": {},
   "toc_section_display": true,
   "toc_window_display": false
  }
 },
 "nbformat": 4,
 "nbformat_minor": 2
}
