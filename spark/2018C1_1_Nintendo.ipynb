{
 "cells": [
  {
   "cell_type": "markdown",
   "metadata": {},
   "source": [
    "# Consigna\n",
    "\n",
    "Link al parcial: https://piazza.com/class_profile/get_resource/jkr2voxi1yw4wt/jkr2vqu7n114zx\n",
    "\n",
    "Nintendo of America (EEUU) tiene información de ventas de videojuegos físicas mensuales totalizadas en EEUU las cuales se realizan en cadenas de tiendas de videojuegos en el siguiente RDD: (id_videojuego, id_tienda, mes, anio, total_ventas_mensuales).\n",
    "\n",
    "Por otro lado tenemos un RDD con información de las tiendas y de su ubicación (id_tienda, direccion, latitud, longitud, codigo_postal, estado).\n",
    "\n",
    "Con esta información escribir un programa en pySpark para obtener la tienda que realizó menor cantidad de ventas en el estado de “Georgia” en todo el año 2017."
   ]
  },
  {
   "cell_type": "code",
   "execution_count": 1,
   "metadata": {},
   "outputs": [],
   "source": [
    "from pyspark import SparkContext\n",
    "\n",
    "#  Por si hay mas de un contexto de PySpark corriendo (por ejemplo, otro Notebook), esto para utilizar el mismo.\n",
    "sc = SparkContext.getOrCreate()"
   ]
  },
  {
   "cell_type": "code",
   "execution_count": 2,
   "metadata": {},
   "outputs": [],
   "source": [
    "#  Vamos a crear algunos datos para poder ver qué es lo que va sucediendo en cada paso de la resolución.\n",
    "#  El resultado final debería ser la tienda 1, con un total de 35 ventas.\n",
    "\n",
    "datos_ventas = [\n",
    "    (0, 1, 2, 2017, 20),\n",
    "    (2, 2, 3, 2017, 30),\n",
    "    (1, 1, 7, 2017, 15),\n",
    "    (0, 1, 3, 2015, 23),\n",
    "    (3, 3, 1, 2017, 10),\n",
    "    (3, 3, 8, 2016, 17),\n",
    "    (3, 3, 6, 2017, 5),\n",
    "    (0, 4, 10, 2017, 12),\n",
    "    (15, 2, 5, 2017, 15),\n",
    "    (0, 5, 1, 2017, 70)\n",
    "]\n",
    "\n",
    "datos_tiendas = [\n",
    "    (1, 'Calle Falsa 123', -3, 4, 1834, 'Georgia'),\n",
    "    (2, 'Siempre Viva 321', 3, -4, 4381, 'Georgia'),\n",
    "    (3, 'Av Paseo Colon 850', 1, 2, 1063, 'Texas'),\n",
    "    (4, 'Sarasa 120', 10, 1, 1234, 'California'),\n",
    "    (5, 'Mostaza 564', 10, 3, 1324, 'Georgia'),\n",
    "    (6, 'Ketchup 897', 3, -99, 7891, 'Los Angeles'),\n",
    "    (4, 'Silver Rathalos 98287', 2, 1, 1234, 'Texas')\n",
    "]"
   ]
  },
  {
   "cell_type": "markdown",
   "metadata": {},
   "source": [
    "# Resolución\n",
    "\n",
    "Básicamente lo que nos piden es filtrar tiendas por año y por estado, luego contar cuántas ventas tiene cada tienda y finalmente quedarnos con la que tenga la menor cantidad.\n",
    "\n",
    "Notar que en algún punto de la resolución, va a ser necesario hacer un **join** de los RDDs, por lo cual debemos hacer el filtrado de los datos _antes_ de unirlos, para de esta forma hacer menos costosa la unión."
   ]
  },
  {
   "cell_type": "markdown",
   "metadata": {},
   "source": [
    "## Paso 1\n",
    "\n",
    "Cargamos los datos en RDDs. \n",
    "\n",
    "Luego filtraremos cada RDD según los criterios que nos piden y descartaremos las columnas que no nos interesan para lo que pide el enunciado."
   ]
  },
  {
   "cell_type": "code",
   "execution_count": 3,
   "metadata": {},
   "outputs": [],
   "source": [
    "rdd_ventas = sc.parallelize(datos_ventas)\n",
    "rdd_tiendas = sc.parallelize(datos_tiendas)"
   ]
  },
  {
   "cell_type": "code",
   "execution_count": 4,
   "metadata": {},
   "outputs": [
    {
     "data": {
      "text/plain": [
       "[(1, 20), (2, 30), (1, 15), (3, 10), (3, 5), (4, 12), (2, 15), (5, 70)]"
      ]
     },
     "execution_count": 4,
     "metadata": {},
     "output_type": "execute_result"
    }
   ],
   "source": [
    "#  Header de rdd_ventas: [id_videojuego, id_tienda, mes, anio, total_ventas_mensuales].\n",
    "#  Índice de id_tienda: 1.\n",
    "#  Índice de anio: 3.\n",
    "#  Índice de total_ventas_mensuales: 4.\n",
    "#  Filtramos rdd_ventas para quedarnos con aquellos registros cuyo anio sea 2017, luego nos quedamos con tuplas\n",
    "#  de la forma (id_tienda, total_ventas_mensuales).\n",
    "\n",
    "rdd_ventas = rdd_ventas.filter(lambda x: x[3] == 2017).map(lambda x: (x[1], x[4]))\n",
    "rdd_ventas.collect()"
   ]
  },
  {
   "cell_type": "code",
   "execution_count": 5,
   "metadata": {},
   "outputs": [
    {
     "data": {
      "text/plain": [
       "[(1, 'Georgia'), (2, 'Georgia'), (5, 'Georgia')]"
      ]
     },
     "execution_count": 5,
     "metadata": {},
     "output_type": "execute_result"
    }
   ],
   "source": [
    "#  Header de rdd_tiendas: [id_tienda, direccion, latitud, longitud, codigo_postal, estado].\n",
    "#  Índice de id_tienda: 0.\n",
    "#  Índice de estado: 5.\n",
    "#  Filtramos rdd_tiendas para quedarnos con aquellos registros cuyo estado sea Georgia, luego nos quedamos con tuplas\n",
    "#  de la forma (id_tienda, estado). Si bien no necesitamos saber el estado, es necesario para poder hacer la unión.\n",
    "\n",
    "rdd_tiendas = rdd_tiendas.filter(lambda x: x[5] == 'Georgia').map(lambda x: (x[0], x[5]))\n",
    "rdd_tiendas.collect()"
   ]
  },
  {
   "cell_type": "markdown",
   "metadata": {},
   "source": [
    "## Paso 2\n",
    "\n",
    "Unimos los RDDs por `id_tienda`, y luego nos quedamos con tuplas de la forma `(id_tienda, total_ventas_mensuales)`.\n",
    "\n",
    "Observación: El método `join` es un _inner join_ por lo cual se queda con las claves que están presentes en ambos RDD. \n",
    "\n",
    "Notar que el resultado es otro RDD el cual está formado por tuplas `(clave, (valor_rdd1, valor_rdd2))`. \n",
    "\n",
    "El `map` no es estrictamente necesario, porque de todas formas el `reduceByKey` va a sumar por el elemento numérico de la tupla `(total_ventas_mensuales, estado)` y dejarlas en el mismo formato que obtenemos con el `map`."
   ]
  },
  {
   "cell_type": "code",
   "execution_count": 6,
   "metadata": {},
   "outputs": [
    {
     "data": {
      "text/plain": [
       "[(1, 20), (1, 15), (2, 30), (2, 15), (5, 70)]"
      ]
     },
     "execution_count": 6,
     "metadata": {},
     "output_type": "execute_result"
    }
   ],
   "source": [
    "rdd_union = rdd_ventas.join(rdd_tiendas).map(lambda x: (x[0], x[1][0]))\n",
    "rdd_union.collect()"
   ]
  },
  {
   "cell_type": "markdown",
   "metadata": {},
   "source": [
    "## Paso 3\n",
    "\n",
    "Finalmente hacemos un `reduceByKey` para obtener las ventas anuales de cada tienda, y luego buscamos la que tenga la menor cantidad de ventas utilizando `reduce`.\n",
    "\n",
    "Observación: Es importante utilizar `reduce` ya que sólamente nos están pidiendo un único resultado, por lo cual utilizar `takeOrdered` u ordenar de alguna otra forma implicaría una operación innecesariamente costosa."
   ]
  },
  {
   "cell_type": "code",
   "execution_count": 7,
   "metadata": {},
   "outputs": [
    {
     "data": {
      "text/plain": [
       "(1, 35)"
      ]
     },
     "execution_count": 7,
     "metadata": {},
     "output_type": "execute_result"
    }
   ],
   "source": [
    "rdd_union.reduceByKey(lambda a,b: a+b).reduce(lambda a,b: a if a < b else b)"
   ]
  }
 ],
 "metadata": {
  "kernelspec": {
   "display_name": "pySpark",
   "language": "python",
   "name": "pyspark"
  },
  "language_info": {
   "codemirror_mode": {
    "name": "ipython",
    "version": 2
   },
   "file_extension": ".py",
   "mimetype": "text/x-python",
   "name": "python",
   "nbconvert_exporter": "python",
   "pygments_lexer": "ipython2",
   "version": "2.7.15"
  }
 },
 "nbformat": 4,
 "nbformat_minor": 2
}
