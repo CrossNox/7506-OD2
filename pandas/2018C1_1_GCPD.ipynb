{
 "cells": [
  {
   "cell_type": "markdown",
   "metadata": {},
   "source": [
    "El GCPD (Gotham City Police Dept) recolecta la información de casos policiales que acontecen en Ciudad Gótica. Esta información se encuentra guardada en un dataframe con el siguiente formato: (fecha, id_caso, descripcion, estado_caso, categoria, latitud, longitud).  \n",
    "\n",
    "Los  posibles estados  que puede tener  un caso son 1: caso abierto, 2: caso  resuelto, 3: cerrado sin resolución.  \n",
    "\n",
    "Las fechas se encuentran en el formato YYYY-MM-DD. Por otro lado el comisionado Gordon guarda un registro detallado sobre en cuáles casos fue activada la batiseñal para \n",
    "pedir ayuda del vigilante, Batman. Esta información se encuentra en un Dataframe con el siguiente formato (id_caso, respuesta), siendo campo respuesta si la señal tuvo una respu\n",
    "esta positiva (1) o negativa (0) de parte de él.\n",
    "\n",
    "El  sector  encargado  de  las  estadísticas  oficiales  del  GCPD  quiere  con  esta  información  analizar  las  siguientes situaciones: \n",
    "\n",
    "a) Tasa de resolución de casos de la fuerza policial por categoría de caso (considerando aquellos casos en los que no participó Batman). \n",
    "\n",
    "b) Tasa de resolución de casos con la ayuda de Batman (considerando que aquellos casos en los que fue llamado con la batiseñal, participó en la resolución). \n",
    "\n",
    "c) Indicar el mes del año pasado en el que Batman tuvo mayor participación en la investigación de casos. \n",
    "\n",
    "[Link](https://piazza.com/class_profile/get_resource/jkr2voxi1yw4wt/jkr2vqu7n114zx)\n",
    "\n",
    "**Resolución de colaborador de la materia: [Link](https://github.com/juanlaura/Datos/blob/master/Pandas/Parcial_1C_2018/Parcial%202018%201C.ipynb)**"
   ]
  },
  {
   "cell_type": "code",
   "execution_count": null,
   "metadata": {},
   "outputs": [],
   "source": [
    "# Set-up y vista rápida de los dos datasets sintéticos\n",
    "\n",
    "CASO_ABIERTO = 1\n",
    "CASO_RESUELTO = 2\n",
    "CASO_CERRADO = 3\n",
    "\n",
    "BATMAN_NO_PARTICIPA = 0\n",
    "BATMAN_PARTICIPA = 1\n",
    "\n",
    "import pandas as pd\n",
    "\n",
    "df_gcpd = pd.read_csv('data/2018C1_GCPD.csv')\n",
    "display(df_gcpd)\n",
    "\n",
    "df_gordon = pd.read_csv('data/2018C1_gordon.csv')\n",
    "display(df_gordon)"
   ]
  },
  {
   "cell_type": "markdown",
   "metadata": {},
   "source": [
    "**a) Tasa de resolución de casos de la fuerza policial por categoría de caso (considerando aquellos casos en los que no participó Batman).**\n",
    "\n",
    "Los pasos a seguir serían:\n",
    "- Filtrar los casos donde batman no participó\n",
    "- Unir con el dataframe de información de casos\n",
    "- Agrupar por ´categoria´\n",
    "- Calcular el % de casos resueltos de cada categoria"
   ]
  },
  {
   "cell_type": "code",
   "execution_count": null,
   "metadata": {},
   "outputs": [],
   "source": [
    "df_sin_batman = df_gordon[df_gordon['respuesta'] == BATMAN_NO_PARTICIPA]\n",
    "df = df_gcpd.merge(df_sin_batman, how='left', on='id_caso')\n",
    "df.groupby(['categoria'])['estado_caso'].agg(lambda x: (x == CASO_RESUELTO).mean()).rename('tasa de resolución')"
   ]
  },
  {
   "cell_type": "markdown",
   "metadata": {},
   "source": [
    "**b) Tasa de resolución de casos con la ayuda de Batman (considerando que aquellos casos en los que fue llamado con la batiseñal, participó en la resolución)**\n",
    "\n",
    "Los pasos son muy similares a los del anterior paso, pero filtrando los casos donde Batman participó y sin agrupar por categoría"
   ]
  },
  {
   "cell_type": "code",
   "execution_count": null,
   "metadata": {},
   "outputs": [],
   "source": [
    "df_con_batman = df_gordon[df_gordon['respuesta'] == BATMAN_PARTICIPA]\n",
    "df = df_gcpd.merge(df_con_batman, how='inner',on='id_caso')\n",
    "df.estado_caso.apply(lambda x: x==CASO_RESUELTO).mean()"
   ]
  },
  {
   "cell_type": "markdown",
   "metadata": {},
   "source": [
    "**c) Indicar el mes del año pasado en el que Batman tuvo mayor participación en la investigación de casos.**\n",
    "\n",
    "- Vamos a filtrar por participación de Batman\n",
    "- Vamos a unir los dataframes por ´id_caso´\n",
    "- Vamos a filtrar los casos por el año 2017\n",
    "- Tomar solo el mes de cada caso\n",
    "- Calcular el/los valores mas repetidos"
   ]
  },
  {
   "cell_type": "code",
   "execution_count": null,
   "metadata": {},
   "outputs": [],
   "source": [
    "df_con_batman = df_gordon.loc[df_gordon['respuesta']==BATMAN_PARTICIPA] \n",
    "df = df_gcpd.merge(df_con_batman, how='inner',on='id_caso') \n",
    "df[df.fecha.str.startswith(\"2017\")].fecha.apply(lambda x: x[5:7]).mode().values.tolist()"
   ]
  }
 ],
 "metadata": {
  "kernelspec": {
   "display_name": "Python 3",
   "language": "python",
   "name": "python3"
  },
  "language_info": {
   "codemirror_mode": {
    "name": "ipython",
    "version": 2
   },
   "file_extension": ".py",
   "mimetype": "text/x-python",
   "name": "python",
   "nbconvert_exporter": "python",
   "pygments_lexer": "ipython2",
   "version": "2.7.15"
  },
  "toc": {
   "base_numbering": 1,
   "nav_menu": {},
   "number_sections": false,
   "sideBar": true,
   "skip_h1_title": false,
   "title_cell": "Table of Contents",
   "title_sidebar": "Contents",
   "toc_cell": false,
   "toc_position": {},
   "toc_section_display": true,
   "toc_window_display": true
  }
 },
 "nbformat": 4,
 "nbformat_minor": 2
}
