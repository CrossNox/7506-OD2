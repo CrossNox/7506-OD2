{
 "cells": [
  {
   "cell_type": "markdown",
   "metadata": {},
   "source": [
    "Contamos con un cluster que tiene 4 computadoras. Queremos\n",
    "aprovechar el paralelismo del cluster para calcular los números primos\n",
    "entre 2 y 20.000.000. Para esto usaremos el conocido algoritmo de la\n",
    "criba de Eratóstenes. Por ejemplo si empezamos con una lista de tipo\n",
    "(2,3,4,5,6,7,8...) en un primer paso eliminamos todos los que son\n",
    "mayores a 2 y divisibles por 2 y nos queda (2,3,5,7,9,11,13…) luego\n",
    "eliminamos todos los mayores a 3 divisibles por 3 y nos queda\n",
    "(2,3,5,7,11,13….etc) luego todos los divisibles por 5 y así\n",
    "sucesivamente. El resultado final es una lista de números que son\n",
    "primos.  \n",
    "[Link](https://piazza.com/class_profile/get_resource/jkr2voxi1yw4wt/jkr2vqs33v4xw)"
   ]
  },
  {
   "cell_type": "markdown",
   "metadata": {},
   "source": [
    "En primer lugar vamos a explicar la idea: inicialmente tenemos todos los numeros entre 2 y 20M. En cada paso, vamos a tomar el menor de los numeros que no hayamos revisado (empezando desde el 2) y _tachando_ aquellos divisibles por ese numero."
   ]
  },
  {
   "cell_type": "code",
   "execution_count": null,
   "metadata": {},
   "outputs": [],
   "source": [
    "from pyspark import SparkContext\n",
    "sc = SparkContext.getOrCreate()\n",
    "import math\n",
    "from functools import partial\n",
    "maxVal = int(1e2)\n",
    "rdd = sc.parallelize(range(2,maxVal+1))\n",
    "\n",
    "# Función para aplicar parcialmente\n",
    "def _isDivisible(n,div):\n",
    "    return n==div or n%div != 0\n",
    "\n",
    "for div in range(2,int(math.sqrt(maxVal+1))):\n",
    "    isDivisible = partial(_isDivisible,div=div)\n",
    "    rdd = rdd.filter(isDivisible)\n",
    "\n",
    "rdd.collect()"
   ]
  },
  {
   "cell_type": "markdown",
   "metadata": {},
   "source": [
    "La criba de Eratostenes tiene una complejidad algoritmica de O(N log(log N)), y permite ciertas optimizaciones, pero para mantenerlo simple, dejaremos esta version sencilla.\n",
    "\n",
    "Inicialmente intenté usar una lambda que tomara el valor de div, pero no funciona. Para mas detalles, pueden leer [esto](https://stackoverflow.com/a/38085794/4864169) y [esto](https://stackoverflow.com/a/34021333/4864169). Mas alla de ese detalle, lo importante es entender lo siguiente:\n",
    "\n",
    "Si un numero $n$ no es primo, puede descomponerse en dos numeros $a, b$ tales que $a * b = n$. Si tanto $a$ como $b$ fueran mas grandes que $\\sqrt n$ entonces $a * b > n$, lo cual es un absurdo bajo las hipotesis anteriores. Por lo tanto, chequeando la divisibilidad de un numero $n$ contra todos los numeros $m < \\sqrt n$, podemos asegurar si un número es primo o no.\n",
    "\n",
    "Entonces hacemos $\\sqrt n$ iteraciones y en cada una filtramos el RDD por el numero de iteración $n$, quedandonos solo con $\\{\\,x \\in \\text{ RDD } \\mid x = n \\vee x \\ncong n \\}$."
   ]
  }
 ],
 "metadata": {
  "kernelspec": {
   "display_name": "Python 3",
   "language": "python",
   "name": "python3"
  },
  "language_info": {
   "codemirror_mode": {
    "name": "ipython",
    "version": 3
   },
   "file_extension": ".py",
   "mimetype": "text/x-python",
   "name": "python",
   "nbconvert_exporter": "python",
   "pygments_lexer": "ipython3",
   "version": "3.7.3"
  },
  "toc": {
   "base_numbering": 1,
   "nav_menu": {},
   "number_sections": true,
   "sideBar": true,
   "skip_h1_title": false,
   "title_cell": "Table of Contents",
   "title_sidebar": "Contents",
   "toc_cell": false,
   "toc_position": {},
   "toc_section_display": true,
   "toc_window_display": false
  }
 },
 "nbformat": 4,
 "nbformat_minor": 2
}
